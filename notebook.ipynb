{
 "cells": [
  {
   "cell_type": "markdown",
   "metadata": {},
   "source": [
    "># **Análise Descritiva** <h1>"
   ]
  },
  {
   "cell_type": "code",
   "execution_count": 2,
   "metadata": {},
   "outputs": [],
   "source": [
    "#Bibliotecas\n",
    "import pandas as pd\n",
    "import numpy as np\n",
    "import seaborn as sns\n",
    "import matplotlib.pyplot as plt\n",
    "from datetime import datetime\n",
    "from joblib import dump\n",
    "import warnings\n",
    "warnings.filterwarnings('ignore')\n",
    "\n",
    "import os\n",
    "for dirname, _, filenames in os.walk('/kaggle/input'):\n",
    "    for filename in filenames:\n",
    "        print(os.path.join(dirname, filename))"
   ]
  },
  {
   "cell_type": "code",
   "execution_count": 3,
   "metadata": {},
   "outputs": [],
   "source": [
    "# Tamanho das fontes das plotagens. Para ajudar na visualização e organização dentro do notebook\n",
    "plt.rc('font', size=20)\n",
    "plt.rc('axes', titlesize=25)\n",
    "plt.rc('axes', labelsize=15)\n",
    "plt.rc('xtick', labelsize=15)\n",
    "plt.rc('ytick', labelsize=15) \n",
    "plt.rc('legend', fontsize=15)"
   ]
  },
  {
   "cell_type": "code",
   "execution_count": 4,
   "metadata": {},
   "outputs": [
    {
     "data": {
      "text/html": [
       "<div>\n",
       "<style scoped>\n",
       "    .dataframe tbody tr th:only-of-type {\n",
       "        vertical-align: middle;\n",
       "    }\n",
       "\n",
       "    .dataframe tbody tr th {\n",
       "        vertical-align: top;\n",
       "    }\n",
       "\n",
       "    .dataframe thead th {\n",
       "        text-align: right;\n",
       "    }\n",
       "</style>\n",
       "<table border=\"1\" class=\"dataframe\">\n",
       "  <thead>\n",
       "    <tr style=\"text-align: right;\">\n",
       "      <th></th>\n",
       "      <th>id</th>\n",
       "      <th>data_inversa</th>\n",
       "      <th>dia_semana</th>\n",
       "      <th>horario</th>\n",
       "      <th>uf</th>\n",
       "      <th>br</th>\n",
       "      <th>km</th>\n",
       "      <th>municipio</th>\n",
       "      <th>causa_acidente</th>\n",
       "      <th>tipo_acidente</th>\n",
       "      <th>...</th>\n",
       "      <th>feridos_graves</th>\n",
       "      <th>ilesos</th>\n",
       "      <th>ignorados</th>\n",
       "      <th>feridos</th>\n",
       "      <th>veiculos</th>\n",
       "      <th>latitude</th>\n",
       "      <th>longitude</th>\n",
       "      <th>regional</th>\n",
       "      <th>delegacia</th>\n",
       "      <th>uop</th>\n",
       "    </tr>\n",
       "  </thead>\n",
       "  <tbody>\n",
       "    <tr>\n",
       "      <th>0</th>\n",
       "      <td>260031.0</td>\n",
       "      <td>2020-01-01</td>\n",
       "      <td>quarta</td>\n",
       "      <td>01:00:00</td>\n",
       "      <td>TO</td>\n",
       "      <td>153.0</td>\n",
       "      <td>678,1</td>\n",
       "      <td>GURUPI</td>\n",
       "      <td>Animais na Pista</td>\n",
       "      <td>Atropelamento de Animal</td>\n",
       "      <td>...</td>\n",
       "      <td>5</td>\n",
       "      <td>0</td>\n",
       "      <td>0</td>\n",
       "      <td>5</td>\n",
       "      <td>1</td>\n",
       "      <td>-11,77460203</td>\n",
       "      <td>-49,10744996</td>\n",
       "      <td>SR-TO</td>\n",
       "      <td>UOP01/TO</td>\n",
       "      <td>NaN</td>\n",
       "    </tr>\n",
       "    <tr>\n",
       "      <th>1</th>\n",
       "      <td>260036.0</td>\n",
       "      <td>2020-01-01</td>\n",
       "      <td>quarta</td>\n",
       "      <td>01:00:00</td>\n",
       "      <td>RJ</td>\n",
       "      <td>116.0</td>\n",
       "      <td>178</td>\n",
       "      <td>NOVA IGUACU</td>\n",
       "      <td>Falta de Atenção do Pedestre</td>\n",
       "      <td>Atropelamento de Pedestre</td>\n",
       "      <td>...</td>\n",
       "      <td>0</td>\n",
       "      <td>1</td>\n",
       "      <td>0</td>\n",
       "      <td>0</td>\n",
       "      <td>1</td>\n",
       "      <td>-22,75223028</td>\n",
       "      <td>-43,4379103</td>\n",
       "      <td>SR-RJ</td>\n",
       "      <td>DEL5/1</td>\n",
       "      <td>UOP02/RJ</td>\n",
       "    </tr>\n",
       "    <tr>\n",
       "      <th>2</th>\n",
       "      <td>260037.0</td>\n",
       "      <td>2020-01-01</td>\n",
       "      <td>quarta</td>\n",
       "      <td>01:52:00</td>\n",
       "      <td>SC</td>\n",
       "      <td>101.0</td>\n",
       "      <td>206,9</td>\n",
       "      <td>SAO JOSE</td>\n",
       "      <td>Ingestão de Álcool</td>\n",
       "      <td>Colisão lateral</td>\n",
       "      <td>...</td>\n",
       "      <td>0</td>\n",
       "      <td>1</td>\n",
       "      <td>0</td>\n",
       "      <td>1</td>\n",
       "      <td>2</td>\n",
       "      <td>-27,59193546</td>\n",
       "      <td>-48,61824557</td>\n",
       "      <td>SR-SC</td>\n",
       "      <td>DEL8/1</td>\n",
       "      <td>UOP01/SC</td>\n",
       "    </tr>\n",
       "    <tr>\n",
       "      <th>3</th>\n",
       "      <td>260038.0</td>\n",
       "      <td>2020-01-01</td>\n",
       "      <td>quarta</td>\n",
       "      <td>01:15:00</td>\n",
       "      <td>RO</td>\n",
       "      <td>364.0</td>\n",
       "      <td>236</td>\n",
       "      <td>CACOAL</td>\n",
       "      <td>Velocidade Incompatível</td>\n",
       "      <td>Saída de leito carroçável</td>\n",
       "      <td>...</td>\n",
       "      <td>1</td>\n",
       "      <td>0</td>\n",
       "      <td>0</td>\n",
       "      <td>1</td>\n",
       "      <td>1</td>\n",
       "      <td>-11,44624577</td>\n",
       "      <td>-61,43761218</td>\n",
       "      <td>SR-RO</td>\n",
       "      <td>DEL21/2</td>\n",
       "      <td>UOP02/RO</td>\n",
       "    </tr>\n",
       "    <tr>\n",
       "      <th>4</th>\n",
       "      <td>260039.0</td>\n",
       "      <td>2020-01-01</td>\n",
       "      <td>quarta</td>\n",
       "      <td>01:30:00</td>\n",
       "      <td>PR</td>\n",
       "      <td>153.0</td>\n",
       "      <td>360</td>\n",
       "      <td>REBOUCAS</td>\n",
       "      <td>Ingestão de Álcool</td>\n",
       "      <td>Capotamento</td>\n",
       "      <td>...</td>\n",
       "      <td>4</td>\n",
       "      <td>0</td>\n",
       "      <td>0</td>\n",
       "      <td>6</td>\n",
       "      <td>1</td>\n",
       "      <td>-25,67503796</td>\n",
       "      <td>-50,75089805</td>\n",
       "      <td>SR-PR</td>\n",
       "      <td>DEL7/3</td>\n",
       "      <td>UOP04/PR</td>\n",
       "    </tr>\n",
       "  </tbody>\n",
       "</table>\n",
       "<p>5 rows × 30 columns</p>\n",
       "</div>"
      ],
      "text/plain": [
       "         id data_inversa dia_semana   horario  uf     br     km    municipio  \\\n",
       "0  260031.0   2020-01-01     quarta  01:00:00  TO  153.0  678,1       GURUPI   \n",
       "1  260036.0   2020-01-01     quarta  01:00:00  RJ  116.0    178  NOVA IGUACU   \n",
       "2  260037.0   2020-01-01     quarta  01:52:00  SC  101.0  206,9     SAO JOSE   \n",
       "3  260038.0   2020-01-01     quarta  01:15:00  RO  364.0    236       CACOAL   \n",
       "4  260039.0   2020-01-01     quarta  01:30:00  PR  153.0    360     REBOUCAS   \n",
       "\n",
       "                 causa_acidente              tipo_acidente  ...  \\\n",
       "0              Animais na Pista    Atropelamento de Animal  ...   \n",
       "1  Falta de Atenção do Pedestre  Atropelamento de Pedestre  ...   \n",
       "2            Ingestão de Álcool            Colisão lateral  ...   \n",
       "3       Velocidade Incompatível  Saída de leito carroçável  ...   \n",
       "4            Ingestão de Álcool                Capotamento  ...   \n",
       "\n",
       "  feridos_graves ilesos ignorados feridos veiculos      latitude  \\\n",
       "0              5      0         0       5        1  -11,77460203   \n",
       "1              0      1         0       0        1  -22,75223028   \n",
       "2              0      1         0       1        2  -27,59193546   \n",
       "3              1      0         0       1        1  -11,44624577   \n",
       "4              4      0         0       6        1  -25,67503796   \n",
       "\n",
       "      longitude  regional  delegacia       uop  \n",
       "0  -49,10744996     SR-TO   UOP01/TO       NaN  \n",
       "1   -43,4379103     SR-RJ     DEL5/1  UOP02/RJ  \n",
       "2  -48,61824557     SR-SC     DEL8/1  UOP01/SC  \n",
       "3  -61,43761218     SR-RO    DEL21/2  UOP02/RO  \n",
       "4  -50,75089805     SR-PR     DEL7/3  UOP04/PR  \n",
       "\n",
       "[5 rows x 30 columns]"
      ]
     },
     "execution_count": 4,
     "metadata": {},
     "output_type": "execute_result"
    }
   ],
   "source": [
    "# Lendo os dados.\n",
    "dados = pd.read_csv('datatran2020.csv', delimiter=';')\n",
    "\n",
    "# Cópia para recuperação.\n",
    "dados_original = dados.copy()\n",
    "\n",
    "dados.head()"
   ]
  },
  {
   "cell_type": "code",
   "execution_count": 5,
   "metadata": {},
   "outputs": [
    {
     "data": {
      "text/html": [
       "<div>\n",
       "<style scoped>\n",
       "    .dataframe tbody tr th:only-of-type {\n",
       "        vertical-align: middle;\n",
       "    }\n",
       "\n",
       "    .dataframe tbody tr th {\n",
       "        vertical-align: top;\n",
       "    }\n",
       "\n",
       "    .dataframe thead th {\n",
       "        text-align: right;\n",
       "    }\n",
       "</style>\n",
       "<table border=\"1\" class=\"dataframe\">\n",
       "  <thead>\n",
       "    <tr style=\"text-align: right;\">\n",
       "      <th></th>\n",
       "      <th>id</th>\n",
       "      <th>br</th>\n",
       "      <th>pessoas</th>\n",
       "      <th>mortos</th>\n",
       "      <th>feridos_leves</th>\n",
       "      <th>feridos_graves</th>\n",
       "      <th>ilesos</th>\n",
       "      <th>ignorados</th>\n",
       "      <th>feridos</th>\n",
       "      <th>veiculos</th>\n",
       "    </tr>\n",
       "  </thead>\n",
       "  <tbody>\n",
       "    <tr>\n",
       "      <th>count</th>\n",
       "      <td>63530.000000</td>\n",
       "      <td>63372.000000</td>\n",
       "      <td>63530.000000</td>\n",
       "      <td>63530.000000</td>\n",
       "      <td>63530.000000</td>\n",
       "      <td>63530.000000</td>\n",
       "      <td>63530.000000</td>\n",
       "      <td>63530.000000</td>\n",
       "      <td>63530.000000</td>\n",
       "      <td>63530.000000</td>\n",
       "    </tr>\n",
       "    <tr>\n",
       "      <th>mean</th>\n",
       "      <td>296484.126177</td>\n",
       "      <td>212.433693</td>\n",
       "      <td>2.323973</td>\n",
       "      <td>0.083252</td>\n",
       "      <td>0.855706</td>\n",
       "      <td>0.269054</td>\n",
       "      <td>0.957799</td>\n",
       "      <td>0.158161</td>\n",
       "      <td>1.124760</td>\n",
       "      <td>1.634220</td>\n",
       "    </tr>\n",
       "    <tr>\n",
       "      <th>std</th>\n",
       "      <td>20941.580339</td>\n",
       "      <td>131.032981</td>\n",
       "      <td>1.709774</td>\n",
       "      <td>0.339785</td>\n",
       "      <td>1.009129</td>\n",
       "      <td>0.599838</td>\n",
       "      <td>1.342577</td>\n",
       "      <td>0.436545</td>\n",
       "      <td>1.113999</td>\n",
       "      <td>0.724952</td>\n",
       "    </tr>\n",
       "    <tr>\n",
       "      <th>min</th>\n",
       "      <td>260031.000000</td>\n",
       "      <td>10.000000</td>\n",
       "      <td>1.000000</td>\n",
       "      <td>0.000000</td>\n",
       "      <td>0.000000</td>\n",
       "      <td>0.000000</td>\n",
       "      <td>0.000000</td>\n",
       "      <td>0.000000</td>\n",
       "      <td>0.000000</td>\n",
       "      <td>1.000000</td>\n",
       "    </tr>\n",
       "    <tr>\n",
       "      <th>25%</th>\n",
       "      <td>278471.250000</td>\n",
       "      <td>101.000000</td>\n",
       "      <td>1.000000</td>\n",
       "      <td>0.000000</td>\n",
       "      <td>0.000000</td>\n",
       "      <td>0.000000</td>\n",
       "      <td>0.000000</td>\n",
       "      <td>0.000000</td>\n",
       "      <td>1.000000</td>\n",
       "      <td>1.000000</td>\n",
       "    </tr>\n",
       "    <tr>\n",
       "      <th>50%</th>\n",
       "      <td>296549.500000</td>\n",
       "      <td>163.000000</td>\n",
       "      <td>2.000000</td>\n",
       "      <td>0.000000</td>\n",
       "      <td>1.000000</td>\n",
       "      <td>0.000000</td>\n",
       "      <td>1.000000</td>\n",
       "      <td>0.000000</td>\n",
       "      <td>1.000000</td>\n",
       "      <td>2.000000</td>\n",
       "    </tr>\n",
       "    <tr>\n",
       "      <th>75%</th>\n",
       "      <td>314538.750000</td>\n",
       "      <td>324.000000</td>\n",
       "      <td>3.000000</td>\n",
       "      <td>0.000000</td>\n",
       "      <td>1.000000</td>\n",
       "      <td>0.000000</td>\n",
       "      <td>1.000000</td>\n",
       "      <td>0.000000</td>\n",
       "      <td>1.000000</td>\n",
       "      <td>2.000000</td>\n",
       "    </tr>\n",
       "    <tr>\n",
       "      <th>max</th>\n",
       "      <td>352488.000000</td>\n",
       "      <td>495.000000</td>\n",
       "      <td>73.000000</td>\n",
       "      <td>13.000000</td>\n",
       "      <td>42.000000</td>\n",
       "      <td>19.000000</td>\n",
       "      <td>73.000000</td>\n",
       "      <td>11.000000</td>\n",
       "      <td>44.000000</td>\n",
       "      <td>23.000000</td>\n",
       "    </tr>\n",
       "  </tbody>\n",
       "</table>\n",
       "</div>"
      ],
      "text/plain": [
       "                  id            br       pessoas        mortos  feridos_leves  \\\n",
       "count   63530.000000  63372.000000  63530.000000  63530.000000   63530.000000   \n",
       "mean   296484.126177    212.433693      2.323973      0.083252       0.855706   \n",
       "std     20941.580339    131.032981      1.709774      0.339785       1.009129   \n",
       "min    260031.000000     10.000000      1.000000      0.000000       0.000000   \n",
       "25%    278471.250000    101.000000      1.000000      0.000000       0.000000   \n",
       "50%    296549.500000    163.000000      2.000000      0.000000       1.000000   \n",
       "75%    314538.750000    324.000000      3.000000      0.000000       1.000000   \n",
       "max    352488.000000    495.000000     73.000000     13.000000      42.000000   \n",
       "\n",
       "       feridos_graves        ilesos     ignorados       feridos      veiculos  \n",
       "count    63530.000000  63530.000000  63530.000000  63530.000000  63530.000000  \n",
       "mean         0.269054      0.957799      0.158161      1.124760      1.634220  \n",
       "std          0.599838      1.342577      0.436545      1.113999      0.724952  \n",
       "min          0.000000      0.000000      0.000000      0.000000      1.000000  \n",
       "25%          0.000000      0.000000      0.000000      1.000000      1.000000  \n",
       "50%          0.000000      1.000000      0.000000      1.000000      2.000000  \n",
       "75%          0.000000      1.000000      0.000000      1.000000      2.000000  \n",
       "max         19.000000     73.000000     11.000000     44.000000     23.000000  "
      ]
     },
     "execution_count": 5,
     "metadata": {},
     "output_type": "execute_result"
    }
   ],
   "source": [
    "dados.describe()"
   ]
  },
  {
   "cell_type": "markdown",
   "metadata": {},
   "source": [
    "> # **Pré-processamento** <h1>"
   ]
  },
  {
   "cell_type": "code",
   "execution_count": 6,
   "metadata": {},
   "outputs": [],
   "source": [
    "#Escolha das características\n",
    "\n",
    "dados = dados[['data_inversa', 'dia_semana', 'horario', 'uf', 'br', 'km', 'municipio', 'causa_acidente', 'tipo_acidente', 'sentido_via', 'condicao_metereologica', 'tipo_pista', 'tracado_via', 'pessoas', 'mortos', 'feridos_leves', 'feridos_graves', 'ilesos', 'ignorados', 'veiculos']].copy()"
   ]
  },
  {
   "cell_type": "markdown",
   "metadata": {},
   "source": [
    "Características que possam ser derivadas de outras (fase do dia - deduzido do horário, classificação - deduzida dos feridos/mortos/ilesos, regional - deduzida do estado e etc) não serão selecionadas. Além disso, características que não serão usadas na análise descritiva serão também descartadas."
   ]
  },
  {
   "cell_type": "markdown",
   "metadata": {},
   "source": [
    "> # **Removendo duplicatas** <h1>"
   ]
  },
  {
   "cell_type": "code",
   "execution_count": 7,
   "metadata": {},
   "outputs": [
    {
     "data": {
      "text/plain": [
       "True"
      ]
     },
     "execution_count": 7,
     "metadata": {},
     "output_type": "execute_result"
    }
   ],
   "source": [
    "dados.duplicated().any()"
   ]
  },
  {
   "cell_type": "code",
   "execution_count": 8,
   "metadata": {},
   "outputs": [
    {
     "data": {
      "text/plain": [
       "False"
      ]
     },
     "execution_count": 8,
     "metadata": {},
     "output_type": "execute_result"
    }
   ],
   "source": [
    "dados.drop_duplicates(inplace=True)\n",
    "dados.duplicated().any()"
   ]
  },
  {
   "cell_type": "markdown",
   "metadata": {},
   "source": [
    "> # **Removendo dados nulos** <h1>"
   ]
  },
  {
   "cell_type": "code",
   "execution_count": 9,
   "metadata": {},
   "outputs": [
    {
     "data": {
      "text/plain": [
       "2"
      ]
     },
     "execution_count": 9,
     "metadata": {},
     "output_type": "execute_result"
    }
   ],
   "source": [
    "dados.isnull().any().sum()"
   ]
  },
  {
   "cell_type": "code",
   "execution_count": 10,
   "metadata": {},
   "outputs": [
    {
     "data": {
      "text/plain": [
       "False"
      ]
     },
     "execution_count": 10,
     "metadata": {},
     "output_type": "execute_result"
    }
   ],
   "source": [
    "dados.dropna(inplace=True)\n",
    "dados.isnull().any().any()"
   ]
  },
  {
   "cell_type": "markdown",
   "metadata": {},
   "source": [
    "> # **Renomeação e conversões**"
   ]
  },
  {
   "cell_type": "code",
   "execution_count": 11,
   "metadata": {},
   "outputs": [],
   "source": [
    "# Renomeando os atributos.\n",
    "dados.rename({'data_inversa': 'Data', 'dia_semana': 'Dia', 'horario': 'Horário', 'uf': 'UF', 'br': 'BR', 'municipio': 'Município', 'causa_acidente': 'Causa', \n",
    "              'tipo_acidente': 'Tipo', 'sentido_via': 'Sentido', 'condicao_metereologica': 'Clima', 'tipo_pista': 'Pista', 'tracado_via': 'Traçado', \n",
    "              'pessoas': 'Pessoas', 'mortos': 'Mortos', 'feridos_leves': 'Feridos Leves', 'feridos_graves': 'Feridos Graves', 'ilesos': 'Ilesos', \n",
    "              'ignorados': 'Ignorados', 'veiculos': 'Veículos'}, axis=1, inplace=True)"
   ]
  },
  {
   "cell_type": "code",
   "execution_count": 12,
   "metadata": {},
   "outputs": [],
   "source": [
    "# Capitalizando os valores dos atributos Dia e Município.\n",
    "dados['Dia'] = dados['Dia'].str.title()\n",
    "dados['Município'] = dados['Município'].str.title()"
   ]
  },
  {
   "cell_type": "code",
   "execution_count": 13,
   "metadata": {},
   "outputs": [],
   "source": [
    "# Convertendo km para número real e BR para número inteiro.\n",
    "dados['km'] = dados['km'].map(lambda x: x.replace(',', '.')).astype(float)\n",
    "dados['BR'] = dados['BR'].astype(int)"
   ]
  },
  {
   "cell_type": "markdown",
   "metadata": {},
   "source": [
    "> # **Excluindo outliers**\n",
    ">\n",
    "> Decidi excluir os outliers"
   ]
  },
  {
   "cell_type": "code",
   "execution_count": 14,
   "metadata": {},
   "outputs": [
    {
     "data": {
      "text/html": [
       "<div>\n",
       "<style scoped>\n",
       "    .dataframe tbody tr th:only-of-type {\n",
       "        vertical-align: middle;\n",
       "    }\n",
       "\n",
       "    .dataframe tbody tr th {\n",
       "        vertical-align: top;\n",
       "    }\n",
       "\n",
       "    .dataframe thead th {\n",
       "        text-align: right;\n",
       "    }\n",
       "</style>\n",
       "<table border=\"1\" class=\"dataframe\">\n",
       "  <thead>\n",
       "    <tr style=\"text-align: right;\">\n",
       "      <th></th>\n",
       "      <th>BR</th>\n",
       "      <th>km</th>\n",
       "      <th>Pessoas</th>\n",
       "      <th>Mortos</th>\n",
       "      <th>Feridos Leves</th>\n",
       "      <th>Feridos Graves</th>\n",
       "      <th>Ilesos</th>\n",
       "      <th>Ignorados</th>\n",
       "      <th>Veículos</th>\n",
       "    </tr>\n",
       "  </thead>\n",
       "  <tbody>\n",
       "    <tr>\n",
       "      <th>count</th>\n",
       "      <td>63367.000000</td>\n",
       "      <td>63367.000000</td>\n",
       "      <td>63367.000000</td>\n",
       "      <td>63367.000000</td>\n",
       "      <td>63367.000000</td>\n",
       "      <td>63367.000000</td>\n",
       "      <td>63367.000000</td>\n",
       "      <td>63367.000000</td>\n",
       "      <td>63367.000000</td>\n",
       "    </tr>\n",
       "    <tr>\n",
       "      <th>mean</th>\n",
       "      <td>212.433491</td>\n",
       "      <td>261.115570</td>\n",
       "      <td>2.323402</td>\n",
       "      <td>0.083371</td>\n",
       "      <td>0.856660</td>\n",
       "      <td>0.269304</td>\n",
       "      <td>0.956034</td>\n",
       "      <td>0.158032</td>\n",
       "      <td>1.634258</td>\n",
       "    </tr>\n",
       "    <tr>\n",
       "      <th>std</th>\n",
       "      <td>131.033347</td>\n",
       "      <td>228.782451</td>\n",
       "      <td>1.710623</td>\n",
       "      <td>0.340080</td>\n",
       "      <td>1.009636</td>\n",
       "      <td>0.599968</td>\n",
       "      <td>1.342480</td>\n",
       "      <td>0.436359</td>\n",
       "      <td>0.725270</td>\n",
       "    </tr>\n",
       "    <tr>\n",
       "      <th>min</th>\n",
       "      <td>10.000000</td>\n",
       "      <td>0.000000</td>\n",
       "      <td>1.000000</td>\n",
       "      <td>0.000000</td>\n",
       "      <td>0.000000</td>\n",
       "      <td>0.000000</td>\n",
       "      <td>0.000000</td>\n",
       "      <td>0.000000</td>\n",
       "      <td>1.000000</td>\n",
       "    </tr>\n",
       "    <tr>\n",
       "      <th>25%</th>\n",
       "      <td>101.000000</td>\n",
       "      <td>78.000000</td>\n",
       "      <td>1.000000</td>\n",
       "      <td>0.000000</td>\n",
       "      <td>0.000000</td>\n",
       "      <td>0.000000</td>\n",
       "      <td>0.000000</td>\n",
       "      <td>0.000000</td>\n",
       "      <td>1.000000</td>\n",
       "    </tr>\n",
       "    <tr>\n",
       "      <th>50%</th>\n",
       "      <td>163.000000</td>\n",
       "      <td>192.100000</td>\n",
       "      <td>2.000000</td>\n",
       "      <td>0.000000</td>\n",
       "      <td>1.000000</td>\n",
       "      <td>0.000000</td>\n",
       "      <td>1.000000</td>\n",
       "      <td>0.000000</td>\n",
       "      <td>2.000000</td>\n",
       "    </tr>\n",
       "    <tr>\n",
       "      <th>75%</th>\n",
       "      <td>324.000000</td>\n",
       "      <td>410.000000</td>\n",
       "      <td>3.000000</td>\n",
       "      <td>0.000000</td>\n",
       "      <td>1.000000</td>\n",
       "      <td>0.000000</td>\n",
       "      <td>1.000000</td>\n",
       "      <td>0.000000</td>\n",
       "      <td>2.000000</td>\n",
       "    </tr>\n",
       "    <tr>\n",
       "      <th>max</th>\n",
       "      <td>495.000000</td>\n",
       "      <td>1243.000000</td>\n",
       "      <td>73.000000</td>\n",
       "      <td>13.000000</td>\n",
       "      <td>42.000000</td>\n",
       "      <td>19.000000</td>\n",
       "      <td>73.000000</td>\n",
       "      <td>11.000000</td>\n",
       "      <td>23.000000</td>\n",
       "    </tr>\n",
       "  </tbody>\n",
       "</table>\n",
       "</div>"
      ],
      "text/plain": [
       "                 BR            km       Pessoas        Mortos  Feridos Leves  \\\n",
       "count  63367.000000  63367.000000  63367.000000  63367.000000   63367.000000   \n",
       "mean     212.433491    261.115570      2.323402      0.083371       0.856660   \n",
       "std      131.033347    228.782451      1.710623      0.340080       1.009636   \n",
       "min       10.000000      0.000000      1.000000      0.000000       0.000000   \n",
       "25%      101.000000     78.000000      1.000000      0.000000       0.000000   \n",
       "50%      163.000000    192.100000      2.000000      0.000000       1.000000   \n",
       "75%      324.000000    410.000000      3.000000      0.000000       1.000000   \n",
       "max      495.000000   1243.000000     73.000000     13.000000      42.000000   \n",
       "\n",
       "       Feridos Graves        Ilesos     Ignorados      Veículos  \n",
       "count    63367.000000  63367.000000  63367.000000  63367.000000  \n",
       "mean         0.269304      0.956034      0.158032      1.634258  \n",
       "std          0.599968      1.342480      0.436359      0.725270  \n",
       "min          0.000000      0.000000      0.000000      1.000000  \n",
       "25%          0.000000      0.000000      0.000000      1.000000  \n",
       "50%          0.000000      1.000000      0.000000      2.000000  \n",
       "75%          0.000000      1.000000      0.000000      2.000000  \n",
       "max         19.000000     73.000000     11.000000     23.000000  "
      ]
     },
     "execution_count": 14,
     "metadata": {},
     "output_type": "execute_result"
    }
   ],
   "source": [
    "dados.describe()"
   ]
  },
  {
   "cell_type": "code",
   "execution_count": 15,
   "metadata": {},
   "outputs": [],
   "source": [
    "# Função para remover outliers a mais de 5 desvios padrão da média.\n",
    "\n",
    "def outliers(dados, colunas): \n",
    "\n",
    "    indices_incomuns = []\n",
    "    todos_indices = np.zeros(len(dados), dtype=bool)\n",
    "\n",
    "    for coluna in colunas:\n",
    "\n",
    "        dados_coluna = np.array(dados[coluna])\n",
    "        \n",
    "        desvio = dados_coluna.std()\n",
    "        media = dados_coluna.mean()\n",
    "\n",
    "        indice_incomum = dados_coluna > (media + 5 * desvio)\n",
    "\n",
    "        indices_incomuns.append(indice_incomum)\n",
    "\n",
    "    for i in range(len(indices_incomuns)):\n",
    "\n",
    "        todos_indices = np.logical_or(todos_indices, indices_incomuns[i])\n",
    "\n",
    "    return todos_indices"
   ]
  },
  {
   "cell_type": "code",
   "execution_count": 16,
   "metadata": {},
   "outputs": [],
   "source": [
    "# Removendo os outliers das colunas Pessoas e Veículos.\n",
    "indices_outliers = outliers(dados, ['Pessoas', 'Veículos'])\n",
    "dados = dados[~indices_outliers]"
   ]
  },
  {
   "cell_type": "code",
   "execution_count": 17,
   "metadata": {},
   "outputs": [
    {
     "data": {
      "text/html": [
       "<div>\n",
       "<style scoped>\n",
       "    .dataframe tbody tr th:only-of-type {\n",
       "        vertical-align: middle;\n",
       "    }\n",
       "\n",
       "    .dataframe tbody tr th {\n",
       "        vertical-align: top;\n",
       "    }\n",
       "\n",
       "    .dataframe thead th {\n",
       "        text-align: right;\n",
       "    }\n",
       "</style>\n",
       "<table border=\"1\" class=\"dataframe\">\n",
       "  <thead>\n",
       "    <tr style=\"text-align: right;\">\n",
       "      <th></th>\n",
       "      <th>BR</th>\n",
       "      <th>km</th>\n",
       "      <th>Pessoas</th>\n",
       "      <th>Mortos</th>\n",
       "      <th>Feridos Leves</th>\n",
       "      <th>Feridos Graves</th>\n",
       "      <th>Ilesos</th>\n",
       "      <th>Ignorados</th>\n",
       "      <th>Veículos</th>\n",
       "    </tr>\n",
       "  </thead>\n",
       "  <tbody>\n",
       "    <tr>\n",
       "      <th>count</th>\n",
       "      <td>63078.000000</td>\n",
       "      <td>63078.000000</td>\n",
       "      <td>63078.000000</td>\n",
       "      <td>63078.000000</td>\n",
       "      <td>63078.000000</td>\n",
       "      <td>63078.000000</td>\n",
       "      <td>63078.000000</td>\n",
       "      <td>63078.000000</td>\n",
       "      <td>63078.000000</td>\n",
       "    </tr>\n",
       "    <tr>\n",
       "      <th>mean</th>\n",
       "      <td>212.364343</td>\n",
       "      <td>261.073515</td>\n",
       "      <td>2.266226</td>\n",
       "      <td>0.081803</td>\n",
       "      <td>0.841910</td>\n",
       "      <td>0.265211</td>\n",
       "      <td>0.920590</td>\n",
       "      <td>0.156711</td>\n",
       "      <td>1.620739</td>\n",
       "    </tr>\n",
       "    <tr>\n",
       "      <th>std</th>\n",
       "      <td>131.017338</td>\n",
       "      <td>228.803717</td>\n",
       "      <td>1.280043</td>\n",
       "      <td>0.325570</td>\n",
       "      <td>0.888023</td>\n",
       "      <td>0.571785</td>\n",
       "      <td>1.031268</td>\n",
       "      <td>0.427874</td>\n",
       "      <td>0.674559</td>\n",
       "    </tr>\n",
       "    <tr>\n",
       "      <th>min</th>\n",
       "      <td>10.000000</td>\n",
       "      <td>0.000000</td>\n",
       "      <td>1.000000</td>\n",
       "      <td>0.000000</td>\n",
       "      <td>0.000000</td>\n",
       "      <td>0.000000</td>\n",
       "      <td>0.000000</td>\n",
       "      <td>0.000000</td>\n",
       "      <td>1.000000</td>\n",
       "    </tr>\n",
       "    <tr>\n",
       "      <th>25%</th>\n",
       "      <td>101.000000</td>\n",
       "      <td>78.000000</td>\n",
       "      <td>1.000000</td>\n",
       "      <td>0.000000</td>\n",
       "      <td>0.000000</td>\n",
       "      <td>0.000000</td>\n",
       "      <td>0.000000</td>\n",
       "      <td>0.000000</td>\n",
       "      <td>1.000000</td>\n",
       "    </tr>\n",
       "    <tr>\n",
       "      <th>50%</th>\n",
       "      <td>163.000000</td>\n",
       "      <td>192.000000</td>\n",
       "      <td>2.000000</td>\n",
       "      <td>0.000000</td>\n",
       "      <td>1.000000</td>\n",
       "      <td>0.000000</td>\n",
       "      <td>1.000000</td>\n",
       "      <td>0.000000</td>\n",
       "      <td>2.000000</td>\n",
       "    </tr>\n",
       "    <tr>\n",
       "      <th>75%</th>\n",
       "      <td>324.000000</td>\n",
       "      <td>410.000000</td>\n",
       "      <td>3.000000</td>\n",
       "      <td>0.000000</td>\n",
       "      <td>1.000000</td>\n",
       "      <td>0.000000</td>\n",
       "      <td>1.000000</td>\n",
       "      <td>0.000000</td>\n",
       "      <td>2.000000</td>\n",
       "    </tr>\n",
       "    <tr>\n",
       "      <th>max</th>\n",
       "      <td>495.000000</td>\n",
       "      <td>1243.000000</td>\n",
       "      <td>10.000000</td>\n",
       "      <td>8.000000</td>\n",
       "      <td>10.000000</td>\n",
       "      <td>8.000000</td>\n",
       "      <td>10.000000</td>\n",
       "      <td>6.000000</td>\n",
       "      <td>5.000000</td>\n",
       "    </tr>\n",
       "  </tbody>\n",
       "</table>\n",
       "</div>"
      ],
      "text/plain": [
       "                 BR            km       Pessoas        Mortos  Feridos Leves  \\\n",
       "count  63078.000000  63078.000000  63078.000000  63078.000000   63078.000000   \n",
       "mean     212.364343    261.073515      2.266226      0.081803       0.841910   \n",
       "std      131.017338    228.803717      1.280043      0.325570       0.888023   \n",
       "min       10.000000      0.000000      1.000000      0.000000       0.000000   \n",
       "25%      101.000000     78.000000      1.000000      0.000000       0.000000   \n",
       "50%      163.000000    192.000000      2.000000      0.000000       1.000000   \n",
       "75%      324.000000    410.000000      3.000000      0.000000       1.000000   \n",
       "max      495.000000   1243.000000     10.000000      8.000000      10.000000   \n",
       "\n",
       "       Feridos Graves        Ilesos     Ignorados      Veículos  \n",
       "count    63078.000000  63078.000000  63078.000000  63078.000000  \n",
       "mean         0.265211      0.920590      0.156711      1.620739  \n",
       "std          0.571785      1.031268      0.427874      0.674559  \n",
       "min          0.000000      0.000000      0.000000      1.000000  \n",
       "25%          0.000000      0.000000      0.000000      1.000000  \n",
       "50%          0.000000      1.000000      0.000000      2.000000  \n",
       "75%          0.000000      1.000000      0.000000      2.000000  \n",
       "max          8.000000     10.000000      6.000000      5.000000  "
      ]
     },
     "execution_count": 17,
     "metadata": {},
     "output_type": "execute_result"
    }
   ],
   "source": [
    "# O novo conjunto de dados é cerca de 0.7% menor.\n",
    "dados.describe()"
   ]
  },
  {
   "cell_type": "markdown",
   "metadata": {},
   "source": [
    "> # **Correlações**"
   ]
  },
  {
   "cell_type": "code",
   "execution_count": 18,
   "metadata": {},
   "outputs": [],
   "source": [
    "# Função de correlação.\n",
    "\n",
    "def correlacoes(dados):\n",
    "\n",
    "    corr = dados.corr().drop(dados.corr().index[0], axis='index').drop(dados.corr().index[-1], axis='columns')\n",
    "\n",
    "    mascara = np.triu(np.ones(corr.shape)).astype(bool)\n",
    "\n",
    "    for i in range(len(mascara)):\n",
    "        for j in range(mascara.shape[1]):\n",
    "            if i == j:\n",
    "                mascara[i, j] = False\n",
    "\n",
    "    sns.set(font_scale=1.6)\n",
    "    sns.set_style('whitegrid')\n",
    "    plt.figure(figsize=(15, 13))\n",
    "\n",
    "    mapa_calor = sns.heatmap(corr, mask=mascara, annot=True, vmin=-1, vmax=1, cmap='coolwarm', linewidths=1)\n",
    "\n",
    "    plt.show()"
   ]
  },
  {
   "cell_type": "code",
   "execution_count": 19,
   "metadata": {},
   "outputs": [
    {
     "data": {
      "image/png": "[encoded data removed]",
      "text/plain": [
       "<Figure size 1080x936 with 2 Axes>"
      ]
     },
     "metadata": {},
     "output_type": "display_data"
    }
   ],
   "source": [
    "correlacoes(dados)"
   ]
  },
  {
   "cell_type": "markdown",
   "metadata": {},
   "source": [
    "O mapa de correlações não revela muita além daquilo que já poderíamos ter previtos. Quanto maior o número de pessoas acidentadas maior tende a ser o número de veículos envolvidos, o número de mortos, feridos, ilesos e ignorados. Além disso, quanto maior o número de feridos, menor tende a ser o número de mortos, ilesos e ignorados. Há um número limitado de pessoas envolvidas em um acidente, logo ao crescer o número de feridos então o número de ilesos, ignorados e mortos precisa diminuir, pois são eventos mutuamente exclusivos."
   ]
  },
  {
   "cell_type": "markdown",
   "metadata": {},
   "source": [
    "> # **overview**"
   ]
  },
  {
   "cell_type": "code",
   "execution_count": 20,
   "metadata": {},
   "outputs": [
    {
     "data": {
      "image/png": "[encoded data removed]",
      "text/plain": [
       "<Figure size 1080x1080 with 9 Axes>"
      ]
     },
     "metadata": {},
     "output_type": "display_data"
    }
   ],
   "source": [
    "dados.hist(bins=10, figsize=(15, 15))\n",
    "plt.show()"
   ]
  },
  {
   "cell_type": "markdown",
   "metadata": {},
   "source": [
    "**Dos histogramas pode-se concluir que:**\n",
    "\n",
    "* km: No geral, a maioria dos acidentes ocorrem nos primeiros 200 quilômetros de cada BR;\n",
    "* Pessoas: A maioria dos acidentes tem 1 ou 2 pessoas envolvidas;\n",
    "* Mortos e Feridos Graves: A imensa maioria dos acidentes não tem mortos ou feridos graves, isso indica que essas classes estão desbalanceadas;\n",
    "* Feridos Leves e Ilesos: Pelo contrario do ponto anterior, a maioria tem feridos leves ou ilesos;\n",
    "* Veículos: Quase que na totalidade dos registros tem-se 1 ou 2 veículos envolvidos."
   ]
  },
  {
   "cell_type": "markdown",
   "metadata": {},
   "source": [
    "> # **Quantidade de pessoas envolvidas em acidentes por dia e hora** "
   ]
  },
  {
   "cell_type": "code",
   "execution_count": 21,
   "metadata": {},
   "outputs": [
    {
     "data": {
      "text/plain": [
       "(str, str)"
      ]
     },
     "execution_count": 21,
     "metadata": {},
     "output_type": "execute_result"
    }
   ],
   "source": [
    "# Os dados em Horário e Data é do tipo string.\n",
    "type(dados['Horário'][:1].values[0]), type(dados['Data'][:1].values[0])"
   ]
  },
  {
   "cell_type": "code",
   "execution_count": 22,
   "metadata": {},
   "outputs": [],
   "source": [
    "# Criando uma coluna com objetos datetime.\n",
    "dados['Data e Hora Temp'] = dados['Data'] + dados['Horário']\n",
    "dados['Data e Hora'] = dados['Data e Hora Temp'].map(lambda x: datetime.strptime(x, '%Y-%m-%d%H:%M:%S'))\n",
    "\n",
    "# Excluindo colunas ambíguas.\n",
    "dados.drop(['Data', 'Horário', 'Data e Hora Temp'], axis='columns', inplace=True)\n",
    "\n",
    "# Definindo intervalos com períodos de 6 horas.\n",
    "dados['Intervalos de Hora'] = pd.cut(dados['Data e Hora'].map(lambda x: x.hour), [0, 6, 12, 18, 24], right=False)\n",
    "\n",
    "# Agrupando a contagem de pessoas por dia e intervalo de hora.\n",
    "pessoas_dia_hora = dados.groupby(['Dia', 'Intervalos de Hora'])['Pessoas'].sum().reset_index()\n",
    "\n",
    "# Ordenando os índices do agrupamento.\n",
    "novo_indice = []\n",
    "for dia in ['Segunda', 'Terça', 'Quarta', 'Quinta', 'Sexta', 'Sábado', 'Domingo']:\n",
    "    novo_indice += list(pessoas_dia_hora[pessoas_dia_hora['Dia'] == dia].index)\n",
    "    \n",
    "pessoas_dia_hora = pessoas_dia_hora.reindex(novo_indice, axis='index')"
   ]
  },
  {
   "cell_type": "code",
   "execution_count": 23,
   "metadata": {},
   "outputs": [
    {
     "data": {
      "image/png": "[encoded data removed]",
      "text/plain": [
       "<Figure size 1152x720 with 1 Axes>"
      ]
     },
     "metadata": {},
     "output_type": "display_data"
    }
   ],
   "source": [
    "plt.figure(figsize=(16, 10))\n",
    "\n",
    "barras = sns.barplot(x='Dia', y='Pessoas', hue='Intervalos de Hora', data=pessoas_dia_hora, palette='mako')\n",
    "barras.set_xlabel(\"\\nDia da Semana\\n\")\n",
    "barras.set_ylabel(\"\\nPessoas Envolvidas\\n\")\n",
    "barras.set_title(\"\\nPessoas Envolvidas em Acidentes por Dia e Hora\\n\")\n",
    "\n",
    "plt.legend(loc='upper left', title='Intervalos de Hora')\n",
    "plt.show()"
   ]
  },
  {
   "cell_type": "code",
   "execution_count": 24,
   "metadata": {},
   "outputs": [
    {
     "data": {
      "text/plain": [
       "Dia\n",
       "Sábado     24190\n",
       "Domingo    23891\n",
       "Sexta      22289\n",
       "Segunda    19136\n",
       "Quinta     18195\n",
       "Quarta     17924\n",
       "Terça      17324\n",
       "Name: Pessoas, dtype: int64"
      ]
     },
     "execution_count": 24,
     "metadata": {},
     "output_type": "execute_result"
    }
   ],
   "source": [
    "# Contagem das pessoas envolvidas em acidentes, agrupadas por dia, em ordem decrescente.\n",
    "dados.groupby('Dia')['Pessoas'].sum().sort_values(ascending=False)"
   ]
  },
  {
   "cell_type": "markdown",
   "metadata": {},
   "source": [
    "O período entre 6h e 18h de segunda à quinta é o que mais tem pessoas envolvidas em acidentes, de sexta, sábado e domingo o período com mais pessoas acidentadas é das 12h às 24h. Isso muito possivelmente se deve ao fato de que durante a semana as pessoas vão e voltam do trabalho/estudo em horário comercial que vai da parte da manhã até o entardecer, enquanto que aos finais de semanas as pessoas ficam nas ruas até mais tarde se divertindo, em igrejas e etc. Pode-se perceber também que o período da tarde e noite das sextas é o período da semana com mais acidentes, provavelmente pela pressa das pessoas em chegarem em casa após o trabalho. Isso faz com que os dias com mais pessoas acidentadas sejam a véspera do final de semana (sexta) e os finais de semana propriamente dito."
   ]
  },
  {
   "cell_type": "markdown",
   "metadata": {},
   "source": [
    "> # **Trechos mais perigosos das BR's com mais mortes**"
   ]
  },
  {
   "cell_type": "code",
   "execution_count": 25,
   "metadata": {},
   "outputs": [
    {
     "data": {
      "text/plain": [
       "count    63078.000000\n",
       "mean       261.073515\n",
       "std        228.803717\n",
       "min          0.000000\n",
       "25%         78.000000\n",
       "50%        192.000000\n",
       "75%        410.000000\n",
       "max       1243.000000\n",
       "Name: km, dtype: float64"
      ]
     },
     "execution_count": 25,
     "metadata": {},
     "output_type": "execute_result"
    }
   ],
   "source": [
    "dados['km'].describe()"
   ]
  },
  {
   "cell_type": "code",
   "execution_count": 26,
   "metadata": {},
   "outputs": [
    {
     "data": {
      "text/html": [
       "<div>\n",
       "<style scoped>\n",
       "    .dataframe tbody tr th:only-of-type {\n",
       "        vertical-align: middle;\n",
       "    }\n",
       "\n",
       "    .dataframe tbody tr th {\n",
       "        vertical-align: top;\n",
       "    }\n",
       "\n",
       "    .dataframe thead th {\n",
       "        text-align: right;\n",
       "    }\n",
       "</style>\n",
       "<table border=\"1\" class=\"dataframe\">\n",
       "  <thead>\n",
       "    <tr style=\"text-align: right;\">\n",
       "      <th></th>\n",
       "      <th>km</th>\n",
       "      <th>Intervalos de km</th>\n",
       "    </tr>\n",
       "  </thead>\n",
       "  <tbody>\n",
       "    <tr>\n",
       "      <th>0</th>\n",
       "      <td>678.1</td>\n",
       "      <td>700.0</td>\n",
       "    </tr>\n",
       "    <tr>\n",
       "      <th>1</th>\n",
       "      <td>178.0</td>\n",
       "      <td>200.0</td>\n",
       "    </tr>\n",
       "    <tr>\n",
       "      <th>2</th>\n",
       "      <td>206.9</td>\n",
       "      <td>300.0</td>\n",
       "    </tr>\n",
       "    <tr>\n",
       "      <th>3</th>\n",
       "      <td>236.0</td>\n",
       "      <td>300.0</td>\n",
       "    </tr>\n",
       "    <tr>\n",
       "      <th>4</th>\n",
       "      <td>360.0</td>\n",
       "      <td>400.0</td>\n",
       "    </tr>\n",
       "  </tbody>\n",
       "</table>\n",
       "</div>"
      ],
      "text/plain": [
       "      km  Intervalos de km\n",
       "0  678.1             700.0\n",
       "1  178.0             200.0\n",
       "2  206.9             300.0\n",
       "3  236.0             300.0\n",
       "4  360.0             400.0"
      ]
     },
     "execution_count": 26,
     "metadata": {},
     "output_type": "execute_result"
    }
   ],
   "source": [
    "# Definindo intervalos de 100km.\n",
    "dados['Intervalos de km'] = pd.cut(dados['km'], range(0, 1301, 100), labels=range(100, 1301, 100)).astype(float)\n",
    "dados[['km', 'Intervalos de km']].head()"
   ]
  },
  {
   "cell_type": "code",
   "execution_count": 27,
   "metadata": {},
   "outputs": [],
   "source": [
    "# Somando os mortos por BR em cada trecho de 100km.\n",
    "mortos_br_km = dados.groupby(['BR', 'Intervalos de km'])['Mortos'].sum().reset_index().dropna()\n",
    "\n",
    "# Filtrando os valores maiores que 0.\n",
    "mortos_br_km = mortos_br_km[mortos_br_km['Mortos'] > 0]\n",
    "\n",
    "# Ordenando por mortos de forma descrescente.\n",
    "mortos_br_km.sort_values(by='Mortos', ascending=False, inplace=True)"
   ]
  },
  {
   "cell_type": "code",
   "execution_count": 28,
   "metadata": {},
   "outputs": [
    {
     "data": {
      "text/plain": [
       "116    6\n",
       "101    5\n",
       "153    4\n",
       "316    1\n",
       "20     1\n",
       "277    1\n",
       "381    1\n",
       "262    1\n",
       "Name: BR, dtype: int64"
      ]
     },
     "execution_count": 28,
     "metadata": {},
     "output_type": "execute_result"
    }
   ],
   "source": [
    "# Contagem das aparições das 20 BRs mais perigosas.\n",
    "mortos_br_km['BR'][:20].value_counts()"
   ]
  },
  {
   "cell_type": "code",
   "execution_count": 29,
   "metadata": {},
   "outputs": [],
   "source": [
    "# Criando filtros para a BR 101, 116 e 153.\n",
    "brs = (mortos_br_km['BR'] == 116) | (mortos_br_km['BR'] == 101) | (mortos_br_km['BR'] == 153)\n",
    "\n",
    "# Agrupando as BRs 101, 116 e 153 por contagem de mortes em cada trecho.\n",
    "top_brs = mortos_br_km[brs].groupby(['BR', 'Intervalos de km'])['Mortos'].sum().reset_index()\n",
    "\n",
    "# Adicionando valores iniciais que auxiliarão na plotagem de uma ogiva de mortes acumuladas.\n",
    "for BR in [101, 116, 153]:\n",
    "    top_brs = top_brs.append(pd.DataFrame({'BR': BR, 'Intervalos de km': 0, 'Mortos': 0}, index=[(top_brs['BR'] == BR).argmax()]))\n",
    "\n",
    "# Ordenando e reindexando.\n",
    "top_brs.sort_values(by=['BR', 'Intervalos de km'], inplace=True)\n",
    "top_brs.index = range(len(top_brs))\n",
    "\n",
    "# Adicionando uma coluna de mortes acumuladas para todas as BRs.\n",
    "top_brs['Mortes Acumuladas'] = top_brs.groupby(['BR'])['Mortos'].cumsum()"
   ]
  },
  {
   "cell_type": "code",
   "execution_count": 30,
   "metadata": {},
   "outputs": [
    {
     "data": {
      "image/png": "[encoded data removed]",
      "text/plain": [
       "<Figure size 1152x576 with 1 Axes>"
      ]
     },
     "metadata": {},
     "output_type": "display_data"
    }
   ],
   "source": [
    "fig, ax = plt.subplots(1, 1, figsize=(16, 8))\n",
    "\n",
    "linhas = sns.lineplot(ax=ax, x='Intervalos de km', y='Mortes Acumuladas', hue='BR', data=top_brs, palette='bright')\n",
    "linhas.set_xlabel(\"\\nTrechos de 100km\\n\")\n",
    "linhas.set_xticks(top_brs['Intervalos de km'].unique())\n",
    "linhas.set_ylabel(\"\\nMortes Acumuladas\\n\")\n",
    "linhas.set_title(\"\\nNúmero acumulado de mortes nas BRs 101, 116 e 153\\n\")\n",
    "\n",
    "for BR in [101, 116, 153]:\n",
    "    idx = (top_brs['BR'] == BR) & (top_brs['Intervalos de km'] == 300)\n",
    "    plt.plot([0, 1000], [top_brs[idx]['Mortes Acumuladas'].iloc[0]] * 2, 'k--')\n",
    "    plt.scatter([300], [top_brs[idx]['Mortes Acumuladas'].iloc[0]], s=50)\n",
    "\n",
    "plt.legend(loc='best', title='BR')\n",
    "plt.show()"
   ]
  },
  {
   "cell_type": "markdown",
   "metadata": {},
   "source": [
    "A BR 116 é a rodovia com mais mortes do país, seguida da BR 101 e BR 153. Pelo gráfico pode-se perceber que a maioria dos acidentes fatais nessas BRs ocorrem majoritariamente nos primeiros 300 kms. Talvez seja melhor colocar mais postos de socorro no decorrer desses 300 kms ou aumentar a fiscalização nesses trechos. Essas rodovias estão localizadas no norte e nordeste do país, o trafego nessas rodovias é majoritariamente de cargas pesadas."
   ]
  },
  {
   "cell_type": "code",
   "execution_count": 31,
   "metadata": {},
   "outputs": [
    {
     "data": {
      "text/plain": [
       "BR\n",
       "116    680\n",
       "101    623\n",
       "153    276\n",
       "Name: Mortos, dtype: int64"
      ]
     },
     "execution_count": 31,
     "metadata": {},
     "output_type": "execute_result"
    }
   ],
   "source": [
    "# Quantidade de mortes nas 3 BRs mais violentas.\n",
    "mortos_br_km.groupby('BR')['Mortos'].sum().sort_values(ascending=False).head(3)"
   ]
  },
  {
   "cell_type": "code",
   "execution_count": 32,
   "metadata": {},
   "outputs": [],
   "source": [
    "# Função que retorna o valor mais comum de uma série de dados.\n",
    "def mais_comum(serie):\n",
    "    return serie.value_counts(ascending=False)[0:1].index[0]"
   ]
  },
  {
   "cell_type": "code",
   "execution_count": 33,
   "metadata": {},
   "outputs": [
    {
     "data": {
      "text/html": [
       "<div>\n",
       "<style scoped>\n",
       "    .dataframe tbody tr th:only-of-type {\n",
       "        vertical-align: middle;\n",
       "    }\n",
       "\n",
       "    .dataframe tbody tr th {\n",
       "        vertical-align: top;\n",
       "    }\n",
       "\n",
       "    .dataframe thead th {\n",
       "        text-align: right;\n",
       "    }\n",
       "</style>\n",
       "<table border=\"1\" class=\"dataframe\">\n",
       "  <thead>\n",
       "    <tr style=\"text-align: right;\">\n",
       "      <th>Intervalos de km</th>\n",
       "      <th>100.0</th>\n",
       "      <th>200.0</th>\n",
       "      <th>300.0</th>\n",
       "    </tr>\n",
       "    <tr>\n",
       "      <th>BR</th>\n",
       "      <th></th>\n",
       "      <th></th>\n",
       "      <th></th>\n",
       "    </tr>\n",
       "  </thead>\n",
       "  <tbody>\n",
       "    <tr>\n",
       "      <th>101</th>\n",
       "      <td>Falta de Atenção à Condução</td>\n",
       "      <td>Falta de Atenção à Condução</td>\n",
       "      <td>Falta de Atenção à Condução</td>\n",
       "    </tr>\n",
       "    <tr>\n",
       "      <th>116</th>\n",
       "      <td>Falta de Atenção à Condução</td>\n",
       "      <td>Falta de Atenção à Condução</td>\n",
       "      <td>Falta de Atenção à Condução</td>\n",
       "    </tr>\n",
       "    <tr>\n",
       "      <th>153</th>\n",
       "      <td>Falta de Atenção à Condução</td>\n",
       "      <td>Falta de Atenção à Condução</td>\n",
       "      <td>Falta de Atenção à Condução</td>\n",
       "    </tr>\n",
       "  </tbody>\n",
       "</table>\n",
       "</div>"
      ],
      "text/plain": [
       "Intervalos de km                        100.0                        200.0  \\\n",
       "BR                                                                           \n",
       "101               Falta de Atenção à Condução  Falta de Atenção à Condução   \n",
       "116               Falta de Atenção à Condução  Falta de Atenção à Condução   \n",
       "153               Falta de Atenção à Condução  Falta de Atenção à Condução   \n",
       "\n",
       "Intervalos de km                        300.0  \n",
       "BR                                             \n",
       "101               Falta de Atenção à Condução  \n",
       "116               Falta de Atenção à Condução  \n",
       "153               Falta de Atenção à Condução  "
      ]
     },
     "execution_count": 33,
     "metadata": {},
     "output_type": "execute_result"
    }
   ],
   "source": [
    "# Causa mais comum de acidente em cada BR, por trechos.\n",
    "dados.pivot_table('Causa', 'BR', 'Intervalos de km', aggfunc=mais_comum).loc[[101, 116, 153]][[100, 200, 300]]"
   ]
  },
  {
   "cell_type": "code",
   "execution_count": 34,
   "metadata": {},
   "outputs": [
    {
     "data": {
      "text/html": [
       "<div>\n",
       "<style scoped>\n",
       "    .dataframe tbody tr th:only-of-type {\n",
       "        vertical-align: middle;\n",
       "    }\n",
       "\n",
       "    .dataframe tbody tr th {\n",
       "        vertical-align: top;\n",
       "    }\n",
       "\n",
       "    .dataframe thead th {\n",
       "        text-align: right;\n",
       "    }\n",
       "</style>\n",
       "<table border=\"1\" class=\"dataframe\">\n",
       "  <thead>\n",
       "    <tr style=\"text-align: right;\">\n",
       "      <th>Intervalos de km</th>\n",
       "      <th>100.0</th>\n",
       "      <th>200.0</th>\n",
       "      <th>300.0</th>\n",
       "    </tr>\n",
       "    <tr>\n",
       "      <th>BR</th>\n",
       "      <th></th>\n",
       "      <th></th>\n",
       "      <th></th>\n",
       "    </tr>\n",
       "  </thead>\n",
       "  <tbody>\n",
       "    <tr>\n",
       "      <th>101</th>\n",
       "      <td>Colisão traseira</td>\n",
       "      <td>Colisão traseira</td>\n",
       "      <td>Colisão traseira</td>\n",
       "    </tr>\n",
       "    <tr>\n",
       "      <th>116</th>\n",
       "      <td>Colisão traseira</td>\n",
       "      <td>Colisão traseira</td>\n",
       "      <td>Colisão traseira</td>\n",
       "    </tr>\n",
       "    <tr>\n",
       "      <th>153</th>\n",
       "      <td>Saída de leito carroçável</td>\n",
       "      <td>Saída de leito carroçável</td>\n",
       "      <td>Saída de leito carroçável</td>\n",
       "    </tr>\n",
       "  </tbody>\n",
       "</table>\n",
       "</div>"
      ],
      "text/plain": [
       "Intervalos de km                      100.0                      200.0  \\\n",
       "BR                                                                       \n",
       "101                        Colisão traseira           Colisão traseira   \n",
       "116                        Colisão traseira           Colisão traseira   \n",
       "153               Saída de leito carroçável  Saída de leito carroçável   \n",
       "\n",
       "Intervalos de km                      300.0  \n",
       "BR                                           \n",
       "101                        Colisão traseira  \n",
       "116                        Colisão traseira  \n",
       "153               Saída de leito carroçável  "
      ]
     },
     "execution_count": 34,
     "metadata": {},
     "output_type": "execute_result"
    }
   ],
   "source": [
    "# Tipo mais comum.\n",
    "dados.pivot_table('Tipo', 'BR', 'Intervalos de km', aggfunc=mais_comum).loc[[101, 116, 153]][[100, 200, 300]]"
   ]
  },
  {
   "cell_type": "code",
   "execution_count": 35,
   "metadata": {},
   "outputs": [
    {
     "data": {
      "text/plain": [
       "('Falta de Atenção à Condução', 'Colisão traseira')"
      ]
     },
     "execution_count": 35,
     "metadata": {},
     "output_type": "execute_result"
    }
   ],
   "source": [
    "mais_comum(dados.Causa), mais_comum(dados.Tipo)"
   ]
  },
  {
   "cell_type": "markdown",
   "metadata": {},
   "source": [
    "Em todos os casos analisados a falta de atenção à condução foi a causa de acidente mais comum. Na BR 101 e 116 o tipo de acidente que mais ocorreu foi colisão traseira, já na BR 153 foi saída de leito carroçável.\n",
    "\n",
    "No apanhado geral do país as causas mais comuns se repetem, _colisão traseira_ e _saída de leito carroçável_."
   ]
  },
  {
   "cell_type": "markdown",
   "metadata": {},
   "source": [
    "> **Cidades com mais acidentes e suas causas mais comuns**"
   ]
  },
  {
   "cell_type": "code",
   "execution_count": 36,
   "metadata": {},
   "outputs": [
    {
     "data": {
      "text/plain": [
       "1783"
      ]
     },
     "execution_count": 36,
     "metadata": {},
     "output_type": "execute_result"
    }
   ],
   "source": [
    "# Contagem de municípios.\n",
    "len(dados['Município'].unique())"
   ]
  },
  {
   "cell_type": "code",
   "execution_count": 37,
   "metadata": {},
   "outputs": [
    {
     "data": {
      "text/plain": [
       "Falta de Atenção à Condução                          1085\n",
       "Desobediência às normas de trânsito pelo condutor     203\n",
       "Velocidade Incompatível                               157\n",
       "Ingestão de Álcool                                     79\n",
       "Defeito Mecânico no Veículo                            59\n",
       "Name: Causa, dtype: int64"
      ]
     },
     "execution_count": 37,
     "metadata": {},
     "output_type": "execute_result"
    }
   ],
   "source": [
    "# 5 causas de acidente mais comum por município.\n",
    "dados.groupby('Município')['Causa'].apply(mais_comum).value_counts().head()"
   ]
  },
  {
   "cell_type": "code",
   "execution_count": 38,
   "metadata": {},
   "outputs": [
    {
     "data": {
      "text/plain": [
       "Brasilia     1033\n",
       "Curitiba      938\n",
       "Guarulhos     635\n",
       "Name: Município, dtype: int64"
      ]
     },
     "execution_count": 38,
     "metadata": {},
     "output_type": "execute_result"
    }
   ],
   "source": [
    "# Municípios com mais acidentes.\n",
    "dados['Município'].value_counts().head(3)"
   ]
  },
  {
   "cell_type": "markdown",
   "metadata": {},
   "source": [
    "As cidades que lideram o ranking de acidentes do país em rodovias federais são Brasília, Curitiba e Guarulhos. Dentre as 1783 cidades analisadas cerca de 81% tem a falta de atenção, velocidade incompatível ou desobediência às normas como a causa mais comum de acidente."
   ]
  },
  {
   "cell_type": "markdown",
   "metadata": {},
   "source": [
    "> **Tipo mais comum de acidente por sentido e traçado da via**"
   ]
  },
  {
   "cell_type": "code",
   "execution_count": 39,
   "metadata": {},
   "outputs": [
    {
     "data": {
      "text/html": [
       "<div>\n",
       "<style scoped>\n",
       "    .dataframe tbody tr th:only-of-type {\n",
       "        vertical-align: middle;\n",
       "    }\n",
       "\n",
       "    .dataframe tbody tr th {\n",
       "        vertical-align: top;\n",
       "    }\n",
       "\n",
       "    .dataframe thead th {\n",
       "        text-align: right;\n",
       "    }\n",
       "</style>\n",
       "<table border=\"1\" class=\"dataframe\">\n",
       "  <thead>\n",
       "    <tr style=\"text-align: right;\">\n",
       "      <th>Sentido</th>\n",
       "      <th>Crescente</th>\n",
       "      <th>Decrescente</th>\n",
       "    </tr>\n",
       "    <tr>\n",
       "      <th>Traçado</th>\n",
       "      <th></th>\n",
       "      <th></th>\n",
       "    </tr>\n",
       "  </thead>\n",
       "  <tbody>\n",
       "    <tr>\n",
       "      <th>Curva</th>\n",
       "      <td>Saída de leito carroçável</td>\n",
       "      <td>Saída de leito carroçável</td>\n",
       "    </tr>\n",
       "    <tr>\n",
       "      <th>Desvio Temporário</th>\n",
       "      <td>Saída de leito carroçável</td>\n",
       "      <td>Saída de leito carroçável</td>\n",
       "    </tr>\n",
       "    <tr>\n",
       "      <th>Interseção de vias</th>\n",
       "      <td>Colisão transversal</td>\n",
       "      <td>Colisão transversal</td>\n",
       "    </tr>\n",
       "    <tr>\n",
       "      <th>Não Informado</th>\n",
       "      <td>Colisão traseira</td>\n",
       "      <td>Colisão traseira</td>\n",
       "    </tr>\n",
       "    <tr>\n",
       "      <th>Ponte</th>\n",
       "      <td>Colisão traseira</td>\n",
       "      <td>Colisão com objeto estático</td>\n",
       "    </tr>\n",
       "    <tr>\n",
       "      <th>Reta</th>\n",
       "      <td>Colisão traseira</td>\n",
       "      <td>Colisão traseira</td>\n",
       "    </tr>\n",
       "    <tr>\n",
       "      <th>Retorno Regulamentado</th>\n",
       "      <td>Colisão transversal</td>\n",
       "      <td>Colisão transversal</td>\n",
       "    </tr>\n",
       "    <tr>\n",
       "      <th>Rotatória</th>\n",
       "      <td>Colisão transversal</td>\n",
       "      <td>Colisão transversal</td>\n",
       "    </tr>\n",
       "    <tr>\n",
       "      <th>Túnel</th>\n",
       "      <td>Colisão frontal</td>\n",
       "      <td>Colisão com objeto estático</td>\n",
       "    </tr>\n",
       "    <tr>\n",
       "      <th>Viaduto</th>\n",
       "      <td>Colisão traseira</td>\n",
       "      <td>Colisão traseira</td>\n",
       "    </tr>\n",
       "  </tbody>\n",
       "</table>\n",
       "</div>"
      ],
      "text/plain": [
       "Sentido                                Crescente                  Decrescente\n",
       "Traçado                                                                      \n",
       "Curva                  Saída de leito carroçável    Saída de leito carroçável\n",
       "Desvio Temporário      Saída de leito carroçável    Saída de leito carroçável\n",
       "Interseção de vias           Colisão transversal          Colisão transversal\n",
       "Não Informado                   Colisão traseira             Colisão traseira\n",
       "Ponte                           Colisão traseira  Colisão com objeto estático\n",
       "Reta                            Colisão traseira             Colisão traseira\n",
       "Retorno Regulamentado        Colisão transversal          Colisão transversal\n",
       "Rotatória                    Colisão transversal          Colisão transversal\n",
       "Túnel                            Colisão frontal  Colisão com objeto estático\n",
       "Viaduto                         Colisão traseira             Colisão traseira"
      ]
     },
     "execution_count": 39,
     "metadata": {},
     "output_type": "execute_result"
    }
   ],
   "source": [
    "dados.pivot_table('Tipo', 'Traçado', 'Sentido', aggfunc=mais_comum)"
   ]
  },
  {
   "cell_type": "markdown",
   "metadata": {},
   "source": [
    "Em curvas e desvios o tipo de acidente mais comum é a saída de leito, isso se explica porque o veículo está em um movimento com uma força centrífuga o jogando radialmente para fora e dependendo da velocidade o veículo acaba saindo pela tangente. Já em intersecções de vias, rotatórias e retornos o mais comum é ocorrer colisões transversais, o que já é auto explicativo. É interessante perceber que em pontes e túneis, lugares estes que geralmente têm obstáculos como sinalizadores luminosos, placas e grades, o tipo de acidente mais comum em descidas é a colisão com objeto estático."
   ]
  },
  {
   "cell_type": "markdown",
   "metadata": {},
   "source": [
    "> **Percentual de mortos, feridos e ilesos por estado**"
   ]
  },
  {
   "cell_type": "code",
   "execution_count": 40,
   "metadata": {},
   "outputs": [
    {
     "data": {
      "text/html": [
       "<div>\n",
       "<style scoped>\n",
       "    .dataframe tbody tr th:only-of-type {\n",
       "        vertical-align: middle;\n",
       "    }\n",
       "\n",
       "    .dataframe tbody tr th {\n",
       "        vertical-align: top;\n",
       "    }\n",
       "\n",
       "    .dataframe thead th {\n",
       "        text-align: right;\n",
       "    }\n",
       "</style>\n",
       "<table border=\"1\" class=\"dataframe\">\n",
       "  <thead>\n",
       "    <tr style=\"text-align: right;\">\n",
       "      <th></th>\n",
       "      <th>Mortos</th>\n",
       "      <th>Feridos Leves</th>\n",
       "      <th>Feridos Graves</th>\n",
       "      <th>Ilesos</th>\n",
       "    </tr>\n",
       "    <tr>\n",
       "      <th>UF</th>\n",
       "      <th></th>\n",
       "      <th></th>\n",
       "      <th></th>\n",
       "      <th></th>\n",
       "    </tr>\n",
       "  </thead>\n",
       "  <tbody>\n",
       "    <tr>\n",
       "      <th>MA</th>\n",
       "      <td>0.093214</td>\n",
       "      <td>0.308112</td>\n",
       "      <td>0.170047</td>\n",
       "      <td>0.428627</td>\n",
       "    </tr>\n",
       "    <tr>\n",
       "      <th>TO</th>\n",
       "      <td>0.075722</td>\n",
       "      <td>0.332553</td>\n",
       "      <td>0.160031</td>\n",
       "      <td>0.431694</td>\n",
       "    </tr>\n",
       "    <tr>\n",
       "      <th>BA</th>\n",
       "      <td>0.064993</td>\n",
       "      <td>0.387734</td>\n",
       "      <td>0.123709</td>\n",
       "      <td>0.423565</td>\n",
       "    </tr>\n",
       "    <tr>\n",
       "      <th>AL</th>\n",
       "      <td>0.062643</td>\n",
       "      <td>0.354469</td>\n",
       "      <td>0.174179</td>\n",
       "      <td>0.408709</td>\n",
       "    </tr>\n",
       "    <tr>\n",
       "      <th>PI</th>\n",
       "      <td>0.062119</td>\n",
       "      <td>0.338205</td>\n",
       "      <td>0.174584</td>\n",
       "      <td>0.425091</td>\n",
       "    </tr>\n",
       "    <tr>\n",
       "      <th>RS</th>\n",
       "      <td>0.024989</td>\n",
       "      <td>0.409845</td>\n",
       "      <td>0.098557</td>\n",
       "      <td>0.466609</td>\n",
       "    </tr>\n",
       "    <tr>\n",
       "      <th>SC</th>\n",
       "      <td>0.024696</td>\n",
       "      <td>0.420893</td>\n",
       "      <td>0.117340</td>\n",
       "      <td>0.437071</td>\n",
       "    </tr>\n",
       "    <tr>\n",
       "      <th>AC</th>\n",
       "      <td>0.021997</td>\n",
       "      <td>0.402707</td>\n",
       "      <td>0.160745</td>\n",
       "      <td>0.414552</td>\n",
       "    </tr>\n",
       "    <tr>\n",
       "      <th>DF</th>\n",
       "      <td>0.016630</td>\n",
       "      <td>0.402626</td>\n",
       "      <td>0.074836</td>\n",
       "      <td>0.505908</td>\n",
       "    </tr>\n",
       "    <tr>\n",
       "      <th>AP</th>\n",
       "      <td>0.014164</td>\n",
       "      <td>0.439093</td>\n",
       "      <td>0.155807</td>\n",
       "      <td>0.390935</td>\n",
       "    </tr>\n",
       "  </tbody>\n",
       "</table>\n",
       "</div>"
      ],
      "text/plain": [
       "      Mortos  Feridos Leves  Feridos Graves    Ilesos\n",
       "UF                                                   \n",
       "MA  0.093214       0.308112        0.170047  0.428627\n",
       "TO  0.075722       0.332553        0.160031  0.431694\n",
       "BA  0.064993       0.387734        0.123709  0.423565\n",
       "AL  0.062643       0.354469        0.174179  0.408709\n",
       "PI  0.062119       0.338205        0.174584  0.425091\n",
       "RS  0.024989       0.409845        0.098557  0.466609\n",
       "SC  0.024696       0.420893        0.117340  0.437071\n",
       "AC  0.021997       0.402707        0.160745  0.414552\n",
       "DF  0.016630       0.402626        0.074836  0.505908\n",
       "AP  0.014164       0.439093        0.155807  0.390935"
      ]
     },
     "execution_count": 40,
     "metadata": {},
     "output_type": "execute_result"
    }
   ],
   "source": [
    "# Soma dos mortos, feridos e ilesos por estado.\n",
    "estado_acidentes = dados.groupby('UF')[['Mortos', 'Feridos Leves', 'Feridos Graves', 'Ilesos']].sum()\n",
    "\n",
    "# Calculando o percentual.\n",
    "estado_acidentes_pct = estado_acidentes.div(estado_acidentes.sum(axis=1), axis=0)\n",
    "\n",
    "# Ordenando.\n",
    "estado_acidentes_pct.sort_values(by='Mortos', ascending=False, inplace=True)\n",
    "\n",
    "# 5 primeiros e 5 últimos estados da ordenação.\n",
    "estado_acidentes_pct.loc[list(estado_acidentes_pct.index[:5]) + list(estado_acidentes_pct.index[-5:])]"
   ]
  },
  {
   "cell_type": "markdown",
   "metadata": {},
   "source": [
    "O estado com maior percentual de mortos, Maranhão, tem um percentual cerca de 6,6 vezes maior que o do Amapá, o estado com menor percentual. Todos os 5 estados com maior percentual de mortos ficam no nordeste do país. Em contraste a isso, mais da metade das pessoas envolvidas em acidentes no Distrito Federal saem ilesas."
   ]
  },
  {
   "cell_type": "markdown",
   "metadata": {},
   "source": [
    "> **Datas com mais acidentes**"
   ]
  },
  {
   "cell_type": "code",
   "execution_count": 41,
   "metadata": {},
   "outputs": [
    {
     "data": {
      "text/plain": [
       "Datas\n",
       "2020-12-20    52\n",
       "2020-12-19    37\n",
       "2020-09-06    35\n",
       "2020-08-23    33\n",
       "2020-11-22    31\n",
       "2020-05-31    30\n",
       "2020-11-02    29\n",
       "2020-08-30    29\n",
       "2020-11-07    28\n",
       "2020-11-29    28\n",
       "2020-07-26    28\n",
       "2020-02-02    28\n",
       "2020-11-14    27\n",
       "2020-07-21    27\n",
       "2020-11-21    27\n",
       "2020-09-20    27\n",
       "2020-11-28    26\n",
       "2020-10-09    26\n",
       "2020-12-12    26\n",
       "2020-12-13    26\n",
       "Name: Mortos, dtype: int64"
      ]
     },
     "execution_count": 41,
     "metadata": {},
     "output_type": "execute_result"
    }
   ],
   "source": [
    "# Criando coluna de datas.\n",
    "dados['Datas'] = dados['Data e Hora'].map(lambda x: x.date())\n",
    "\n",
    "# Soma dos mortos por data.\n",
    "mortos_data = dados.groupby('Datas')['Mortos'].sum()\n",
    "\n",
    "# 20 dias com mais mortes.\n",
    "mortos_data.sort_values(ascending=False)[:20]"
   ]
  },
  {
   "cell_type": "markdown",
   "metadata": {},
   "source": [
    "**Dos 20 dias mais fatais podemos identificar os principais feriados de fim de ano:**\n",
    "\n",
    "* 6 de Setembro: 35 mortos (Véspera da Independência do Brasil)\n",
    "* 1 e 2 de Novembro: 54 mortos (Véspera de Finados e Finados)\n",
    "* 14 de Novembro: 27 mortos (Véspera da Proclamação da República)\n",
    "* 19 e 20 de Dezembro: 89 mortos (Viagens de festas de fim de ano)"
   ]
  },
  {
   "cell_type": "markdown",
   "metadata": {},
   "source": [
    "> # **Análise Preditiva**"
   ]
  },
  {
   "cell_type": "code",
   "execution_count": 42,
   "metadata": {},
   "outputs": [],
   "source": [
    "# Bibliotecas\\Modelos.\n",
    "from sklearn.linear_model import LogisticRegression\n",
    "from sklearn.svm import LinearSVC\n",
    "from sklearn.tree import DecisionTreeClassifier\n",
    "from sklearn.ensemble import RandomForestClassifier, VotingClassifier\n",
    "\n",
    "# Métricas de desempenho.\n",
    "from sklearn.metrics import accuracy_score, f1_score, precision_score, recall_score, roc_auc_score\n",
    "\n",
    "# Pré-processamento.\n",
    "from sklearn.model_selection import train_test_split, cross_val_predict\n",
    "from sklearn.preprocessing import StandardScaler, OneHotEncoder\n",
    "from sklearn.base import TransformerMixin, BaseEstimator\n",
    "\n",
    "# Pipeline.\n",
    "from sklearn.pipeline import Pipeline\n",
    "from sklearn.compose import ColumnTransformer\n",
    "\n",
    "# Semente para permitir reprodutibilidade.\n",
    "np.random.seed(0)"
   ]
  },
  {
   "cell_type": "markdown",
   "metadata": {},
   "source": [
    "> # **Pré-processamento**\n",
    "Pipeline\n",
    "\n",
    "Para X:\n",
    "\n",
    "* Extrair a hora do objeto datetime e discretizá-la em um intervalo rotulado;\n",
    "* Extrair o dia da semana do objeto datetime;\n",
    "* Codificar os atributos categóricos e nomimais: UF, BR, Município, Causa, Tipo, Sentido, Clima, Pista e Traçado;\n",
    "* Discretizar o km em intervalos rotulados;\n",
    "* Escalonar as variáveis numéricas: Veículos, Pessoas, Hora, Dia, km;.\n",
    "\n",
    "Para y:\n",
    "\n",
    "* Codificar os alvos em binário"
   ]
  },
  {
   "cell_type": "code",
   "execution_count": 43,
   "metadata": {},
   "outputs": [],
   "source": [
    "# Vamos excluir os atributos que serão redefinidos ou que não entrarão na análise preditiva por não te-los de antemão.\n",
    "dados.drop(['Intervalos de Hora', 'Dia', 'Causa', 'Tipo', 'Ignorados', 'Intervalos de km', 'Datas', 'Mortos', \n",
    "            'Feridos Leves', 'Feridos Graves'], axis=1, inplace=True)"
   ]
  },
  {
   "cell_type": "code",
   "execution_count": 44,
   "metadata": {},
   "outputs": [
    {
     "data": {
      "text/html": [
       "<div>\n",
       "<style scoped>\n",
       "    .dataframe tbody tr th:only-of-type {\n",
       "        vertical-align: middle;\n",
       "    }\n",
       "\n",
       "    .dataframe tbody tr th {\n",
       "        vertical-align: top;\n",
       "    }\n",
       "\n",
       "    .dataframe thead th {\n",
       "        text-align: right;\n",
       "    }\n",
       "</style>\n",
       "<table border=\"1\" class=\"dataframe\">\n",
       "  <thead>\n",
       "    <tr style=\"text-align: right;\">\n",
       "      <th></th>\n",
       "      <th>UF</th>\n",
       "      <th>BR</th>\n",
       "      <th>km</th>\n",
       "      <th>Município</th>\n",
       "      <th>Sentido</th>\n",
       "      <th>Clima</th>\n",
       "      <th>Pista</th>\n",
       "      <th>Traçado</th>\n",
       "      <th>Pessoas</th>\n",
       "      <th>Ilesos</th>\n",
       "      <th>Veículos</th>\n",
       "      <th>Data e Hora</th>\n",
       "    </tr>\n",
       "  </thead>\n",
       "  <tbody>\n",
       "    <tr>\n",
       "      <th>0</th>\n",
       "      <td>TO</td>\n",
       "      <td>153</td>\n",
       "      <td>678.1</td>\n",
       "      <td>Gurupi</td>\n",
       "      <td>Crescente</td>\n",
       "      <td>Nublado</td>\n",
       "      <td>Simples</td>\n",
       "      <td>Reta</td>\n",
       "      <td>5</td>\n",
       "      <td>0</td>\n",
       "      <td>1</td>\n",
       "      <td>2020-01-01 01:00:00</td>\n",
       "    </tr>\n",
       "    <tr>\n",
       "      <th>1</th>\n",
       "      <td>RJ</td>\n",
       "      <td>116</td>\n",
       "      <td>178.0</td>\n",
       "      <td>Nova Iguacu</td>\n",
       "      <td>Decrescente</td>\n",
       "      <td>Céu Claro</td>\n",
       "      <td>Dupla</td>\n",
       "      <td>Reta</td>\n",
       "      <td>2</td>\n",
       "      <td>1</td>\n",
       "      <td>1</td>\n",
       "      <td>2020-01-01 01:00:00</td>\n",
       "    </tr>\n",
       "    <tr>\n",
       "      <th>2</th>\n",
       "      <td>SC</td>\n",
       "      <td>101</td>\n",
       "      <td>206.9</td>\n",
       "      <td>Sao Jose</td>\n",
       "      <td>Crescente</td>\n",
       "      <td>Nublado</td>\n",
       "      <td>Simples</td>\n",
       "      <td>Reta</td>\n",
       "      <td>2</td>\n",
       "      <td>1</td>\n",
       "      <td>2</td>\n",
       "      <td>2020-01-01 01:52:00</td>\n",
       "    </tr>\n",
       "    <tr>\n",
       "      <th>3</th>\n",
       "      <td>RO</td>\n",
       "      <td>364</td>\n",
       "      <td>236.0</td>\n",
       "      <td>Cacoal</td>\n",
       "      <td>Decrescente</td>\n",
       "      <td>Nublado</td>\n",
       "      <td>Simples</td>\n",
       "      <td>Reta</td>\n",
       "      <td>1</td>\n",
       "      <td>0</td>\n",
       "      <td>1</td>\n",
       "      <td>2020-01-01 01:15:00</td>\n",
       "    </tr>\n",
       "    <tr>\n",
       "      <th>4</th>\n",
       "      <td>PR</td>\n",
       "      <td>153</td>\n",
       "      <td>360.0</td>\n",
       "      <td>Reboucas</td>\n",
       "      <td>Crescente</td>\n",
       "      <td>Garoa/Chuvisco</td>\n",
       "      <td>Simples</td>\n",
       "      <td>Curva</td>\n",
       "      <td>6</td>\n",
       "      <td>0</td>\n",
       "      <td>1</td>\n",
       "      <td>2020-01-01 01:30:00</td>\n",
       "    </tr>\n",
       "  </tbody>\n",
       "</table>\n",
       "</div>"
      ],
      "text/plain": [
       "   UF   BR     km    Município      Sentido           Clima    Pista Traçado  \\\n",
       "0  TO  153  678.1       Gurupi    Crescente         Nublado  Simples    Reta   \n",
       "1  RJ  116  178.0  Nova Iguacu  Decrescente       Céu Claro    Dupla    Reta   \n",
       "2  SC  101  206.9     Sao Jose    Crescente         Nublado  Simples    Reta   \n",
       "3  RO  364  236.0       Cacoal  Decrescente         Nublado  Simples    Reta   \n",
       "4  PR  153  360.0     Reboucas    Crescente  Garoa/Chuvisco  Simples   Curva   \n",
       "\n",
       "   Pessoas  Ilesos  Veículos         Data e Hora  \n",
       "0        5       0         1 2020-01-01 01:00:00  \n",
       "1        2       1         1 2020-01-01 01:00:00  \n",
       "2        2       1         2 2020-01-01 01:52:00  \n",
       "3        1       0         1 2020-01-01 01:15:00  \n",
       "4        6       0         1 2020-01-01 01:30:00  "
      ]
     },
     "execution_count": 44,
     "metadata": {},
     "output_type": "execute_result"
    }
   ],
   "source": [
    "dados.head()"
   ]
  },
  {
   "cell_type": "code",
   "execution_count": 45,
   "metadata": {},
   "outputs": [],
   "source": [
    "# Definindo uma classe que adicionará alguns atributos e implementará os métodos fit e transform para posterior uso no Pipeline.\n",
    "class adicionar_atributos(TransformerMixin, BaseEstimator):\n",
    "    def __init__(self):\n",
    "        pass\n",
    "    def fit(self, X, y=None):\n",
    "        return self\n",
    "    def transform(self, X, y=None):\n",
    "\n",
    "        dados_ = X[['Pessoas', 'Veículos', 'Data e Hora', 'km']].copy()\n",
    "\n",
    "        dados_['Cod Hora'] = pd.cut(dados_['Data e Hora'].map(lambda x: x.hour), bins=range(0, 25, 6), labels=range(1, 5), right=False)\n",
    "        dados_['Cod Dia'] = dados_['Data e Hora'].map(lambda x: x.dayofweek)\n",
    "        dados_['Cod km'] = pd.cut(dados_['km'], bins=range(0, 1300, 100), labels=range(1, 13))\n",
    "        \n",
    "        dados_.drop(['Data e Hora', 'km'], axis=1, inplace=True)\n",
    "\n",
    "        return dados_"
   ]
  },
  {
   "cell_type": "code",
   "execution_count": 46,
   "metadata": {},
   "outputs": [],
   "source": [
    "# Classe para transformar os alvos em valores binários.\n",
    "class valor_binario(TransformerMixin, BaseEstimator):\n",
    "    def __init__(self):\n",
    "        pass\n",
    "    def fit(self, X, y=None):\n",
    "        return self\n",
    "    def transform(self, X, y=None):\n",
    "\n",
    "        dados_ = X.copy()\n",
    "\n",
    "        return dados_.astype(bool).astype(int)"
   ]
  },
  {
   "cell_type": "code",
   "execution_count": 47,
   "metadata": {},
   "outputs": [],
   "source": [
    "# Pipeline que adiciona atributos e escalona os valores numéricos, além de codificar os dados categóricos/nominais.\n",
    "pipeline_x_1 = ColumnTransformer([('num', \n",
    "                               Pipeline([('adicionar_atributos', adicionar_atributos()),\n",
    "                                         ('escalonamento', StandardScaler())]), \n",
    "                               ['Pessoas', 'Veículos', 'Data e Hora', 'km']),\n",
    "                              ('cat', \n",
    "                               OneHotEncoder(), \n",
    "                               ['UF', 'BR', 'Município', 'Sentido', 'Clima', 'Pista', 'Traçado'])])\n",
    "\n",
    "pipeline_y = Pipeline([('valor_binario', valor_binario())])"
   ]
  },
  {
   "cell_type": "code",
   "execution_count": 48,
   "metadata": {},
   "outputs": [],
   "source": [
    "# Todas as instâncias e todos os atributos.\n",
    "features = ['UF', 'BR', 'Município', 'Sentido', 'Clima', 'Pista', 'Traçado', 'Pessoas', 'Veículos', 'Data e Hora', 'km']\n",
    "X_set = dados[features]\n",
    "\n",
    "# Alvos de todas as instâncias.\n",
    "target = ['Ilesos']\n",
    "y_set = dados[target]"
   ]
  },
  {
   "cell_type": "code",
   "execution_count": 49,
   "metadata": {},
   "outputs": [],
   "source": [
    "# Treinando o pipeline com os dados.\n",
    "X_set = pipeline_x_1.fit_transform(X_set)\n",
    "y_set = pipeline_y.fit_transform(y_set)"
   ]
  },
  {
   "cell_type": "code",
   "execution_count": 50,
   "metadata": {},
   "outputs": [
    {
     "data": {
      "text/plain": [
       "<63078x1955 sparse matrix of type '<class 'numpy.float64'>'\n",
       "\twith 756936 stored elements in Compressed Sparse Row format>"
      ]
     },
     "execution_count": 50,
     "metadata": {},
     "output_type": "execute_result"
    }
   ],
   "source": [
    "X_set"
   ]
  },
  {
   "cell_type": "code",
   "execution_count": 51,
   "metadata": {},
   "outputs": [
    {
     "data": {
      "text/html": [
       "<div>\n",
       "<style scoped>\n",
       "    .dataframe tbody tr th:only-of-type {\n",
       "        vertical-align: middle;\n",
       "    }\n",
       "\n",
       "    .dataframe tbody tr th {\n",
       "        vertical-align: top;\n",
       "    }\n",
       "\n",
       "    .dataframe thead th {\n",
       "        text-align: right;\n",
       "    }\n",
       "</style>\n",
       "<table border=\"1\" class=\"dataframe\">\n",
       "  <thead>\n",
       "    <tr style=\"text-align: right;\">\n",
       "      <th></th>\n",
       "      <th>Ilesos</th>\n",
       "    </tr>\n",
       "  </thead>\n",
       "  <tbody>\n",
       "    <tr>\n",
       "      <th>0</th>\n",
       "      <td>0</td>\n",
       "    </tr>\n",
       "    <tr>\n",
       "      <th>1</th>\n",
       "      <td>1</td>\n",
       "    </tr>\n",
       "    <tr>\n",
       "      <th>2</th>\n",
       "      <td>1</td>\n",
       "    </tr>\n",
       "    <tr>\n",
       "      <th>3</th>\n",
       "      <td>0</td>\n",
       "    </tr>\n",
       "    <tr>\n",
       "      <th>4</th>\n",
       "      <td>0</td>\n",
       "    </tr>\n",
       "  </tbody>\n",
       "</table>\n",
       "</div>"
      ],
      "text/plain": [
       "   Ilesos\n",
       "0       0\n",
       "1       1\n",
       "2       1\n",
       "3       0\n",
       "4       0"
      ]
     },
     "execution_count": 51,
     "metadata": {},
     "output_type": "execute_result"
    }
   ],
   "source": [
    "y_set.head()"
   ]
  },
  {
   "cell_type": "code",
   "execution_count": 52,
   "metadata": {},
   "outputs": [
    {
     "data": {
      "text/plain": [
       "(11, 1955)"
      ]
     },
     "execution_count": 52,
     "metadata": {},
     "output_type": "execute_result"
    }
   ],
   "source": [
    "# Inicialmente as instâncias têm 10 características, depois de passar pelo pipeline elas têm 1955.\n",
    "dados[features].shape[1], X_set.shape[1]"
   ]
  },
  {
   "cell_type": "markdown",
   "metadata": {},
   "source": [
    "Seleção de Características¶\n",
    "A árvore de decisão usa uma função de custo chamada CART para decidir se deve dividir em nó ou não. Essa função tem duas variáveis, sendo a primeira delas o tamanho dos nós que serão gerados na divisão, e a segundo é um índice de pureza (gini ou entropia) que se baseia em um limiar associado a uma feature aleatória. O controle do tamanho permite gerarmos árvores balanceada, já os limiares permitem detectarmos as várias que são mais importantes e que mais diferenciam as instâncias. Sabendo disso podemos usar o método featureimportances do objeto da classe DecisionTreeClassifier para encontramos quais são tais features"
   ]
  },
  {
   "cell_type": "code",
   "execution_count": 53,
   "metadata": {},
   "outputs": [
    {
     "data": {
      "text/html": [
       "<style>#sk-container-id-1 {color: black;background-color: white;}#sk-container-id-1 pre{padding: 0;}#sk-container-id-1 div.sk-toggleable {background-color: white;}#sk-container-id-1 label.sk-toggleable__label {cursor: pointer;display: block;width: 100%;margin-bottom: 0;padding: 0.3em;box-sizing: border-box;text-align: center;}#sk-container-id-1 label.sk-toggleable__label-arrow:before {content: \"▸\";float: left;margin-right: 0.25em;color: #696969;}#sk-container-id-1 label.sk-toggleable__label-arrow:hover:before {color: black;}#sk-container-id-1 div.sk-estimator:hover label.sk-toggleable__label-arrow:before {color: black;}#sk-container-id-1 div.sk-toggleable__content {max-height: 0;max-width: 0;overflow: hidden;text-align: left;background-color: #f0f8ff;}#sk-container-id-1 div.sk-toggleable__content pre {margin: 0.2em;color: black;border-radius: 0.25em;background-color: #f0f8ff;}#sk-container-id-1 input.sk-toggleable__control:checked~div.sk-toggleable__content {max-height: 200px;max-width: 100%;overflow: auto;}#sk-container-id-1 input.sk-toggleable__control:checked~label.sk-toggleable__label-arrow:before {content: \"▾\";}#sk-container-id-1 div.sk-estimator input.sk-toggleable__control:checked~label.sk-toggleable__label {background-color: #d4ebff;}#sk-container-id-1 div.sk-label input.sk-toggleable__control:checked~label.sk-toggleable__label {background-color: #d4ebff;}#sk-container-id-1 input.sk-hidden--visually {border: 0;clip: rect(1px 1px 1px 1px);clip: rect(1px, 1px, 1px, 1px);height: 1px;margin: -1px;overflow: hidden;padding: 0;position: absolute;width: 1px;}#sk-container-id-1 div.sk-estimator {font-family: monospace;background-color: #f0f8ff;border: 1px dotted black;border-radius: 0.25em;box-sizing: border-box;margin-bottom: 0.5em;}#sk-container-id-1 div.sk-estimator:hover {background-color: #d4ebff;}#sk-container-id-1 div.sk-parallel-item::after {content: \"\";width: 100%;border-bottom: 1px solid gray;flex-grow: 1;}#sk-container-id-1 div.sk-label:hover label.sk-toggleable__label {background-color: #d4ebff;}#sk-container-id-1 div.sk-serial::before {content: \"\";position: absolute;border-left: 1px solid gray;box-sizing: border-box;top: 0;bottom: 0;left: 50%;z-index: 0;}#sk-container-id-1 div.sk-serial {display: flex;flex-direction: column;align-items: center;background-color: white;padding-right: 0.2em;padding-left: 0.2em;position: relative;}#sk-container-id-1 div.sk-item {position: relative;z-index: 1;}#sk-container-id-1 div.sk-parallel {display: flex;align-items: stretch;justify-content: center;background-color: white;position: relative;}#sk-container-id-1 div.sk-item::before, #sk-container-id-1 div.sk-parallel-item::before {content: \"\";position: absolute;border-left: 1px solid gray;box-sizing: border-box;top: 0;bottom: 0;left: 50%;z-index: -1;}#sk-container-id-1 div.sk-parallel-item {display: flex;flex-direction: column;z-index: 1;position: relative;background-color: white;}#sk-container-id-1 div.sk-parallel-item:first-child::after {align-self: flex-end;width: 50%;}#sk-container-id-1 div.sk-parallel-item:last-child::after {align-self: flex-start;width: 50%;}#sk-container-id-1 div.sk-parallel-item:only-child::after {width: 0;}#sk-container-id-1 div.sk-dashed-wrapped {border: 1px dashed gray;margin: 0 0.4em 0.5em 0.4em;box-sizing: border-box;padding-bottom: 0.4em;background-color: white;}#sk-container-id-1 div.sk-label label {font-family: monospace;font-weight: bold;display: inline-block;line-height: 1.2em;}#sk-container-id-1 div.sk-label-container {text-align: center;}#sk-container-id-1 div.sk-container {/* jupyter's `normalize.less` sets `[hidden] { display: none; }` but bootstrap.min.css set `[hidden] { display: none !important; }` so we also need the `!important` here to be able to override the default hidden behavior on the sphinx rendered scikit-learn.org. See: https://github.com/scikit-learn/scikit-learn/issues/21755 */display: inline-block !important;position: relative;}#sk-container-id-1 div.sk-text-repr-fallback {display: none;}</style><div id=\"sk-container-id-1\" class=\"sk-top-container\"><div class=\"sk-text-repr-fallback\"><pre>DecisionTreeClassifier(random_state=0)</pre><b>In a Jupyter environment, please rerun this cell to show the HTML representation or trust the notebook. <br />On GitHub, the HTML representation is unable to render, please try loading this page with nbviewer.org.</b></div><div class=\"sk-container\" hidden><div class=\"sk-item\"><div class=\"sk-estimator sk-toggleable\"><input class=\"sk-toggleable__control sk-hidden--visually\" id=\"sk-estimator-id-1\" type=\"checkbox\" checked><label for=\"sk-estimator-id-1\" class=\"sk-toggleable__label sk-toggleable__label-arrow\">DecisionTreeClassifier</label><div class=\"sk-toggleable__content\"><pre>DecisionTreeClassifier(random_state=0)</pre></div></div></div></div></div>"
      ],
      "text/plain": [
       "DecisionTreeClassifier(random_state=0)"
      ]
     },
     "execution_count": 53,
     "metadata": {},
     "output_type": "execute_result"
    }
   ],
   "source": [
    "arvore_clf = DecisionTreeClassifier(random_state=0)\n",
    "arvore_clf.fit(X_set, y_set)"
   ]
  },
  {
   "cell_type": "code",
   "execution_count": 54,
   "metadata": {},
   "outputs": [],
   "source": [
    "extra_attribs = ['Cod Hora', 'Cod Dia', 'Cod km']\n",
    "\n",
    "cat_encoder = pipeline_x_1.named_transformers_['cat'].categories_\n",
    "\n",
    "cat_encoder_attribs = []\n",
    "for i in range(len(cat_encoder)):\n",
    "    cat_encoder_attribs.extend(list(cat_encoder[i]))\n",
    "    \n",
    "atributos = ['Pessoas', 'Veículos'] + extra_attribs + cat_encoder_attribs"
   ]
  },
  {
   "cell_type": "code",
   "execution_count": 55,
   "metadata": {},
   "outputs": [
    {
     "data": {
      "text/html": [
       "<div>\n",
       "<style scoped>\n",
       "    .dataframe tbody tr th:only-of-type {\n",
       "        vertical-align: middle;\n",
       "    }\n",
       "\n",
       "    .dataframe tbody tr th {\n",
       "        vertical-align: top;\n",
       "    }\n",
       "\n",
       "    .dataframe thead th {\n",
       "        text-align: right;\n",
       "    }\n",
       "</style>\n",
       "<table border=\"1\" class=\"dataframe\">\n",
       "  <thead>\n",
       "    <tr style=\"text-align: right;\">\n",
       "      <th></th>\n",
       "      <th>0</th>\n",
       "      <th>1</th>\n",
       "    </tr>\n",
       "  </thead>\n",
       "  <tbody>\n",
       "    <tr>\n",
       "      <th>1</th>\n",
       "      <td>0.291869</td>\n",
       "      <td>Veículos</td>\n",
       "    </tr>\n",
       "    <tr>\n",
       "      <th>3</th>\n",
       "      <td>0.083842</td>\n",
       "      <td>Cod Dia</td>\n",
       "    </tr>\n",
       "    <tr>\n",
       "      <th>0</th>\n",
       "      <td>0.051381</td>\n",
       "      <td>Pessoas</td>\n",
       "    </tr>\n",
       "    <tr>\n",
       "      <th>2</th>\n",
       "      <td>0.041551</td>\n",
       "      <td>Cod Hora</td>\n",
       "    </tr>\n",
       "    <tr>\n",
       "      <th>1930</th>\n",
       "      <td>0.020954</td>\n",
       "      <td>Crescente</td>\n",
       "    </tr>\n",
       "    <tr>\n",
       "      <th>1931</th>\n",
       "      <td>0.020630</td>\n",
       "      <td>Decrescente</td>\n",
       "    </tr>\n",
       "    <tr>\n",
       "      <th>1933</th>\n",
       "      <td>0.018292</td>\n",
       "      <td>Céu Claro</td>\n",
       "    </tr>\n",
       "    <tr>\n",
       "      <th>1950</th>\n",
       "      <td>0.013598</td>\n",
       "      <td>Reta</td>\n",
       "    </tr>\n",
       "    <tr>\n",
       "      <th>1939</th>\n",
       "      <td>0.012694</td>\n",
       "      <td>Nublado</td>\n",
       "    </tr>\n",
       "    <tr>\n",
       "      <th>1948</th>\n",
       "      <td>0.011214</td>\n",
       "      <td>Não Informado</td>\n",
       "    </tr>\n",
       "    <tr>\n",
       "      <th>1932</th>\n",
       "      <td>0.008172</td>\n",
       "      <td>Chuva</td>\n",
       "    </tr>\n",
       "    <tr>\n",
       "      <th>1945</th>\n",
       "      <td>0.007786</td>\n",
       "      <td>Curva</td>\n",
       "    </tr>\n",
       "    <tr>\n",
       "      <th>1944</th>\n",
       "      <td>0.006267</td>\n",
       "      <td>Simples</td>\n",
       "    </tr>\n",
       "    <tr>\n",
       "      <th>1942</th>\n",
       "      <td>0.006182</td>\n",
       "      <td>Dupla</td>\n",
       "    </tr>\n",
       "    <tr>\n",
       "      <th>1940</th>\n",
       "      <td>0.005893</td>\n",
       "      <td>Sol</td>\n",
       "    </tr>\n",
       "    <tr>\n",
       "      <th>1946</th>\n",
       "      <td>0.004565</td>\n",
       "      <td>Desvio Temporário</td>\n",
       "    </tr>\n",
       "    <tr>\n",
       "      <th>1943</th>\n",
       "      <td>0.004422</td>\n",
       "      <td>Múltipla</td>\n",
       "    </tr>\n",
       "    <tr>\n",
       "      <th>1934</th>\n",
       "      <td>0.004231</td>\n",
       "      <td>Garoa/Chuvisco</td>\n",
       "    </tr>\n",
       "    <tr>\n",
       "      <th>1947</th>\n",
       "      <td>0.004166</td>\n",
       "      <td>Interseção de vias</td>\n",
       "    </tr>\n",
       "    <tr>\n",
       "      <th>43</th>\n",
       "      <td>0.003756</td>\n",
       "      <td>116</td>\n",
       "    </tr>\n",
       "    <tr>\n",
       "      <th>40</th>\n",
       "      <td>0.003166</td>\n",
       "      <td>101</td>\n",
       "    </tr>\n",
       "    <tr>\n",
       "      <th>1952</th>\n",
       "      <td>0.002780</td>\n",
       "      <td>Rotatória</td>\n",
       "    </tr>\n",
       "    <tr>\n",
       "      <th>1936</th>\n",
       "      <td>0.002468</td>\n",
       "      <td>Ignorado</td>\n",
       "    </tr>\n",
       "    <tr>\n",
       "      <th>35</th>\n",
       "      <td>0.002252</td>\n",
       "      <td>40</td>\n",
       "    </tr>\n",
       "    <tr>\n",
       "      <th>23</th>\n",
       "      <td>0.001991</td>\n",
       "      <td>RJ</td>\n",
       "    </tr>\n",
       "    <tr>\n",
       "      <th>33</th>\n",
       "      <td>0.001856</td>\n",
       "      <td>20</td>\n",
       "    </tr>\n",
       "    <tr>\n",
       "      <th>22</th>\n",
       "      <td>0.001728</td>\n",
       "      <td>PR</td>\n",
       "    </tr>\n",
       "    <tr>\n",
       "      <th>47</th>\n",
       "      <td>0.001720</td>\n",
       "      <td>153</td>\n",
       "    </tr>\n",
       "    <tr>\n",
       "      <th>9</th>\n",
       "      <td>0.001681</td>\n",
       "      <td>BA</td>\n",
       "    </tr>\n",
       "    <tr>\n",
       "      <th>30</th>\n",
       "      <td>0.001647</td>\n",
       "      <td>SP</td>\n",
       "    </tr>\n",
       "  </tbody>\n",
       "</table>\n",
       "</div>"
      ],
      "text/plain": [
       "             0                   1\n",
       "1     0.291869            Veículos\n",
       "3     0.083842             Cod Dia\n",
       "0     0.051381             Pessoas\n",
       "2     0.041551            Cod Hora\n",
       "1930  0.020954           Crescente\n",
       "1931  0.020630         Decrescente\n",
       "1933  0.018292           Céu Claro\n",
       "1950  0.013598                Reta\n",
       "1939  0.012694             Nublado\n",
       "1948  0.011214       Não Informado\n",
       "1932  0.008172               Chuva\n",
       "1945  0.007786               Curva\n",
       "1944  0.006267             Simples\n",
       "1942  0.006182               Dupla\n",
       "1940  0.005893                 Sol\n",
       "1946  0.004565   Desvio Temporário\n",
       "1943  0.004422            Múltipla\n",
       "1934  0.004231      Garoa/Chuvisco\n",
       "1947  0.004166  Interseção de vias\n",
       "43    0.003756                 116\n",
       "40    0.003166                 101\n",
       "1952  0.002780           Rotatória\n",
       "1936  0.002468            Ignorado\n",
       "35    0.002252                  40\n",
       "23    0.001991                  RJ\n",
       "33    0.001856                  20\n",
       "22    0.001728                  PR\n",
       "47    0.001720                 153\n",
       "9     0.001681                  BA\n",
       "30    0.001647                  SP"
      ]
     },
     "execution_count": 55,
     "metadata": {},
     "output_type": "execute_result"
    }
   ],
   "source": [
    "pd.DataFrame(zip(arvore_clf.feature_importances_, atributos)).sort_values(by=0, ascending=False).head(30)"
   ]
  },
  {
   "cell_type": "markdown",
   "metadata": {},
   "source": [
    "As características mais relevantes para definir se um acidente tem ou não ilesos são:\n",
    "\n",
    "* Quantidade de veículos envolvidos;\n",
    "* Data e hora do acidente;\n",
    "* Quantidade de pessoas envolvidas;\n",
    "* Sentido, traçado e tipo de pista;\n",
    "* Clima."
   ]
  },
  {
   "cell_type": "code",
   "execution_count": 56,
   "metadata": {},
   "outputs": [],
   "source": [
    "# Cosntruiremos outro pipeline, agora selecionando só as features mais importantes.\n",
    "class adicionar_atributos_importantes(TransformerMixin, BaseEstimator):\n",
    "    def __init__(self):\n",
    "        pass\n",
    "    def fit(self, X, y=None):\n",
    "        return self\n",
    "    def transform(self, X, y=None):\n",
    "\n",
    "        dados_ = X[['Pessoas', 'Veículos', 'Data e Hora']].copy()\n",
    "\n",
    "        dados_['Cod Hora'] = pd.cut(dados_['Data e Hora'].map(lambda x: x.hour), bins=range(0, 25, 6), labels=range(1, 5), right=False)\n",
    "        dados_['Cod Dia'] = dados_['Data e Hora'].map(lambda x: x.dayofweek)        \n",
    "        dados_.drop(['Data e Hora'], axis=1, inplace=True)\n",
    "\n",
    "        return dados_\n",
    "\n",
    "pipeline_x_2 = ColumnTransformer([('num', \n",
    "                               Pipeline([('adicionar_atributos_importantes', adicionar_atributos_importantes()),\n",
    "                                         ('escalonamento', StandardScaler())]), \n",
    "                               ['Pessoas', 'Veículos', 'Data e Hora']),\n",
    "                              ('cat', \n",
    "                               OneHotEncoder(), \n",
    "                               ['Sentido', 'Clima', 'Pista', 'Traçado'])])"
   ]
  },
  {
   "cell_type": "code",
   "execution_count": 57,
   "metadata": {},
   "outputs": [],
   "source": [
    "features_importantes = ['Veículos', 'Data e Hora', 'Pessoas', 'Sentido', 'Traçado', 'Pista', 'Clima']\n",
    "X_set = dados[features_importantes]"
   ]
  },
  {
   "cell_type": "code",
   "execution_count": 58,
   "metadata": {},
   "outputs": [],
   "source": [
    "X_set = pipeline_x_2.fit_transform(X_set).toarray()"
   ]
  },
  {
   "cell_type": "code",
   "execution_count": 59,
   "metadata": {},
   "outputs": [
    {
     "data": {
      "text/plain": [
       "(63078, 29)"
      ]
     },
     "execution_count": 59,
     "metadata": {},
     "output_type": "execute_result"
    }
   ],
   "source": [
    "X_set.shape"
   ]
  },
  {
   "cell_type": "markdown",
   "metadata": {},
   "source": [
    "> # **Treinando modelos**"
   ]
  },
  {
   "cell_type": "code",
   "execution_count": 60,
   "metadata": {},
   "outputs": [],
   "source": [
    "def scores(y, y_pred):\n",
    "    \n",
    "    for metrica, nome in [(accuracy_score, 'Acurácia'), \n",
    "                              (f1_score, 'Score f1'), \n",
    "                              (precision_score, 'Precisão'), \n",
    "                              (recall_score, 'Revocação'), \n",
    "                              (roc_auc_score, 'Área ROC')]:\n",
    "                              \n",
    "            print(f'{nome}: {round(100 * metrica(y, y_pred), 2)}%', end='  |  ')\n",
    "    \n",
    "    print('\\n')"
   ]
  },
  {
   "cell_type": "code",
   "execution_count": 61,
   "metadata": {},
   "outputs": [],
   "source": [
    "# Dividindo os dados em um conjunto de treino e um de teste.\n",
    "X_train, X_test, y_train, y_test = train_test_split(X_set, y_set, test_size=0.1, random_state=0)\n",
    "\n",
    "# Função para mostrar o desempenho.\n",
    "def display(modelo):\n",
    "\n",
    "    # Predição da Validação Cruzada.\n",
    "    y_pred = cross_val_predict(modelo, X_train, y_train)\n",
    "\n",
    "    scores(y_train, y_pred)"
   ]
  },
  {
   "cell_type": "markdown",
   "metadata": {},
   "source": [
    "> # **Regressão Logística**"
   ]
  },
  {
   "cell_type": "code",
   "execution_count": 62,
   "metadata": {},
   "outputs": [],
   "source": [
    "log_clf = LogisticRegression(solver='liblinear', random_state=0)"
   ]
  },
  {
   "cell_type": "code",
   "execution_count": 63,
   "metadata": {},
   "outputs": [
    {
     "name": "stdout",
     "output_type": "stream",
     "text": [
      "Acurácia: 77.02%  |  Score f1: 80.15%  |  Precisão: 84.21%  |  Revocação: 76.47%  |  Área ROC: 77.17%  |  \n",
      "\n"
     ]
    }
   ],
   "source": [
    "display(log_clf)"
   ]
  },
  {
   "cell_type": "markdown",
   "metadata": {},
   "source": [
    "> # **SVM Linear**"
   ]
  },
  {
   "cell_type": "code",
   "execution_count": 64,
   "metadata": {},
   "outputs": [],
   "source": [
    "linear_svm_clf = LinearSVC(loss='hinge')"
   ]
  },
  {
   "cell_type": "code",
   "execution_count": 65,
   "metadata": {},
   "outputs": [
    {
     "name": "stdout",
     "output_type": "stream",
     "text": [
      "Acurácia: 76.58%  |  Score f1: 79.47%  |  Precisão: 84.92%  |  Revocação: 74.67%  |  Área ROC: 77.1%  |  \n",
      "\n"
     ]
    }
   ],
   "source": [
    "display(linear_svm_clf)"
   ]
  },
  {
   "cell_type": "markdown",
   "metadata": {},
   "source": [
    "> # **Árvore de Decisão**"
   ]
  },
  {
   "cell_type": "code",
   "execution_count": 68,
   "metadata": {},
   "outputs": [],
   "source": [
    "arvore_clf = DecisionTreeClassifier(random_state=0)"
   ]
  },
  {
   "cell_type": "code",
   "execution_count": 69,
   "metadata": {},
   "outputs": [
    {
     "name": "stdout",
     "output_type": "stream",
     "text": [
      "Acurácia: 72.99%  |  Score f1: 77.11%  |  Precisão: 79.37%  |  Revocação: 74.98%  |  Área ROC: 72.45%  |  \n",
      "\n"
     ]
    }
   ],
   "source": [
    "display(arvore_clf)"
   ]
  },
  {
   "cell_type": "markdown",
   "metadata": {},
   "source": [
    "> # **Random Forest**"
   ]
  },
  {
   "cell_type": "code",
   "execution_count": 70,
   "metadata": {},
   "outputs": [],
   "source": [
    "rnd_clf = RandomForestClassifier(random_state=0)"
   ]
  },
  {
   "cell_type": "code",
   "execution_count": 71,
   "metadata": {},
   "outputs": [
    {
     "name": "stdout",
     "output_type": "stream",
     "text": [
      "Acurácia: 74.41%  |  Score f1: 78.98%  |  Precisão: 78.73%  |  Revocação: 79.24%  |  Área ROC: 73.1%  |  \n",
      "\n"
     ]
    }
   ],
   "source": [
    "display(rnd_clf)"
   ]
  },
  {
   "cell_type": "markdown",
   "metadata": {},
   "source": [
    "> # **Classificador por votação**"
   ]
  },
  {
   "cell_type": "code",
   "execution_count": 72,
   "metadata": {},
   "outputs": [],
   "source": [
    "vot_clf = VotingClassifier([('log_clf', log_clf), \n",
    "                            ('linear_svm_clf', linear_svm_clf), \n",
    "                            ('rnd_clf', rnd_clf)])"
   ]
  },
  {
   "cell_type": "code",
   "execution_count": 73,
   "metadata": {},
   "outputs": [
    {
     "name": "stdout",
     "output_type": "stream",
     "text": [
      "Acurácia: 76.9%  |  Score f1: 79.95%  |  Precisão: 84.44%  |  Revocação: 75.92%  |  Área ROC: 77.17%  |  \n",
      "\n"
     ]
    }
   ],
   "source": [
    "display(vot_clf)"
   ]
  },
  {
   "cell_type": "markdown",
   "metadata": {},
   "source": [
    "Embora o modelo de Classificação por Votação tenha tido melhor precisão, no geral, o modelo de Regressão Logística se saiu melhor. Vamos avaliá-lo no conjunto de teste"
   ]
  },
  {
   "cell_type": "code",
   "execution_count": 74,
   "metadata": {},
   "outputs": [
    {
     "name": "stdout",
     "output_type": "stream",
     "text": [
      "Acurácia: 77.09%  |  Score f1: 80.13%  |  Precisão: 84.41%  |  Revocação: 76.26%  |  Área ROC: 77.32%  |  \n",
      "\n"
     ]
    }
   ],
   "source": [
    "log_clf.fit(X_train, y_train)\n",
    "\n",
    "y_pred = log_clf.predict(X_test)\n",
    "\n",
    "scores(y_test, y_pred)"
   ]
  }
 ],
 "metadata": {
  "kernelspec": {
   "display_name": "Python 3.9.12 ('base')",
   "language": "python",
   "name": "python3"
  },
  "language_info": {
   "codemirror_mode": {
    "name": "ipython",
    "version": 3
   },
   "file_extension": ".py",
   "mimetype": "text/x-python",
   "name": "python",
   "nbconvert_exporter": "python",
   "pygments_lexer": "ipython3",
   "version": "3.9.12"
  },
  "orig_nbformat": 4,
  "vscode": {
   "interpreter": {
    "hash": "0c1c08fc7034f4b2410429b8a7c14f45d4a288fbc5c32263a88800bb03345535"
   }
  }
 },
 "nbformat": 4,
 "nbformat_minor": 2
}
